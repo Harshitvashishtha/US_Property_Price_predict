{
 "cells": [
  {
   "cell_type": "code",
   "execution_count": 1,
   "id": "0de212b4",
   "metadata": {},
   "outputs": [],
   "source": [
    "import pandas as pd\n",
    "import numpy as np \n",
    "import seaborn as sns\n",
    "import matplotlib.pyplot as plt"
   ]
  },
  {
   "cell_type": "code",
   "execution_count": 2,
   "id": "de4a4dd1",
   "metadata": {},
   "outputs": [],
   "source": [
    "demand= pd.read_csv(r\"D:\\Data Science Project\\US_Property\\archive (4)\\demand.csv\")\n",
    "supply= pd.read_csv(r\"D:\\Data Science Project\\US_Property\\archive (4)\\supply.csv\")"
   ]
  },
  {
   "cell_type": "code",
   "execution_count": 3,
   "id": "4957934b",
   "metadata": {},
   "outputs": [
    {
     "data": {
      "text/html": [
       "<div>\n",
       "<style scoped>\n",
       "    .dataframe tbody tr th:only-of-type {\n",
       "        vertical-align: middle;\n",
       "    }\n",
       "\n",
       "    .dataframe tbody tr th {\n",
       "        vertical-align: top;\n",
       "    }\n",
       "\n",
       "    .dataframe thead th {\n",
       "        text-align: right;\n",
       "    }\n",
       "</style>\n",
       "<table border=\"1\" class=\"dataframe\">\n",
       "  <thead>\n",
       "    <tr style=\"text-align: right;\">\n",
       "      <th></th>\n",
       "      <th>DATE</th>\n",
       "      <th>Home_price_index</th>\n",
       "      <th>30y_mortgage</th>\n",
       "      <th>Consumer_sentiment</th>\n",
       "      <th>Interest_rates</th>\n",
       "      <th>Median_sales_price</th>\n",
       "      <th>GDP</th>\n",
       "    </tr>\n",
       "  </thead>\n",
       "  <tbody>\n",
       "    <tr>\n",
       "      <th>0</th>\n",
       "      <td>01-01-2003</td>\n",
       "      <td>129.321000</td>\n",
       "      <td>5.840769</td>\n",
       "      <td>79.966667</td>\n",
       "      <td>2.250000</td>\n",
       "      <td>186000</td>\n",
       "      <td>11174.129</td>\n",
       "    </tr>\n",
       "    <tr>\n",
       "      <th>1</th>\n",
       "      <td>01-04-2003</td>\n",
       "      <td>131.756000</td>\n",
       "      <td>5.506923</td>\n",
       "      <td>89.266667</td>\n",
       "      <td>2.166667</td>\n",
       "      <td>191800</td>\n",
       "      <td>11312.766</td>\n",
       "    </tr>\n",
       "    <tr>\n",
       "      <th>2</th>\n",
       "      <td>01-07-2003</td>\n",
       "      <td>135.013000</td>\n",
       "      <td>6.033846</td>\n",
       "      <td>89.300000</td>\n",
       "      <td>2.000000</td>\n",
       "      <td>191900</td>\n",
       "      <td>11566.669</td>\n",
       "    </tr>\n",
       "    <tr>\n",
       "      <th>3</th>\n",
       "      <td>01-10-2003</td>\n",
       "      <td>138.835667</td>\n",
       "      <td>5.919286</td>\n",
       "      <td>91.966667</td>\n",
       "      <td>2.000000</td>\n",
       "      <td>198800</td>\n",
       "      <td>11772.234</td>\n",
       "    </tr>\n",
       "    <tr>\n",
       "      <th>4</th>\n",
       "      <td>01-01-2004</td>\n",
       "      <td>143.298667</td>\n",
       "      <td>5.597500</td>\n",
       "      <td>98.000000</td>\n",
       "      <td>2.000000</td>\n",
       "      <td>212700</td>\n",
       "      <td>11923.447</td>\n",
       "    </tr>\n",
       "  </tbody>\n",
       "</table>\n",
       "</div>"
      ],
      "text/plain": [
       "         DATE  Home_price_index  30y_mortgage  Consumer_sentiment  \\\n",
       "0  01-01-2003        129.321000      5.840769           79.966667   \n",
       "1  01-04-2003        131.756000      5.506923           89.266667   \n",
       "2  01-07-2003        135.013000      6.033846           89.300000   \n",
       "3  01-10-2003        138.835667      5.919286           91.966667   \n",
       "4  01-01-2004        143.298667      5.597500           98.000000   \n",
       "\n",
       "   Interest_rates  Median_sales_price        GDP  \n",
       "0        2.250000              186000  11174.129  \n",
       "1        2.166667              191800  11312.766  \n",
       "2        2.000000              191900  11566.669  \n",
       "3        2.000000              198800  11772.234  \n",
       "4        2.000000              212700  11923.447  "
      ]
     },
     "execution_count": 3,
     "metadata": {},
     "output_type": "execute_result"
    }
   ],
   "source": [
    "demand.head()"
   ]
  },
  {
   "cell_type": "code",
   "execution_count": 4,
   "id": "97c28a62",
   "metadata": {
    "scrolled": true
   },
   "outputs": [
    {
     "data": {
      "text/html": [
       "<div>\n",
       "<style scoped>\n",
       "    .dataframe tbody tr th:only-of-type {\n",
       "        vertical-align: middle;\n",
       "    }\n",
       "\n",
       "    .dataframe tbody tr th {\n",
       "        vertical-align: top;\n",
       "    }\n",
       "\n",
       "    .dataframe thead th {\n",
       "        text-align: right;\n",
       "    }\n",
       "</style>\n",
       "<table border=\"1\" class=\"dataframe\">\n",
       "  <thead>\n",
       "    <tr style=\"text-align: right;\">\n",
       "      <th></th>\n",
       "      <th>DATE</th>\n",
       "      <th>Home_Price_index</th>\n",
       "      <th>Montly_Supply</th>\n",
       "      <th>Permit</th>\n",
       "      <th>Total_consumption spending</th>\n",
       "      <th>Housing_inventory</th>\n",
       "    </tr>\n",
       "  </thead>\n",
       "  <tbody>\n",
       "    <tr>\n",
       "      <th>0</th>\n",
       "      <td>01-01-2003</td>\n",
       "      <td>129.321</td>\n",
       "      <td>4.2</td>\n",
       "      <td>1806.333333</td>\n",
       "      <td>421328.6667</td>\n",
       "      <td>14908</td>\n",
       "    </tr>\n",
       "    <tr>\n",
       "      <th>1</th>\n",
       "      <td>01-04-2003</td>\n",
       "      <td>131.756</td>\n",
       "      <td>3.833333333</td>\n",
       "      <td>1837.666667</td>\n",
       "      <td>429308.6667</td>\n",
       "      <td>15244</td>\n",
       "    </tr>\n",
       "    <tr>\n",
       "      <th>2</th>\n",
       "      <td>01-07-2003</td>\n",
       "      <td>135.013</td>\n",
       "      <td>3.633333333</td>\n",
       "      <td>1937.333333</td>\n",
       "      <td>458890</td>\n",
       "      <td>15614</td>\n",
       "    </tr>\n",
       "    <tr>\n",
       "      <th>3</th>\n",
       "      <td>01-10-2003</td>\n",
       "      <td>138.8356667</td>\n",
       "      <td>3.966666667</td>\n",
       "      <td>1972.333333</td>\n",
       "      <td>491437.3333</td>\n",
       "      <td>15654</td>\n",
       "    </tr>\n",
       "    <tr>\n",
       "      <th>4</th>\n",
       "      <td>01-01-2004</td>\n",
       "      <td>143.2986667</td>\n",
       "      <td>3.7</td>\n",
       "      <td>1994.666667</td>\n",
       "      <td>506856.3333</td>\n",
       "      <td>15895</td>\n",
       "    </tr>\n",
       "    <tr>\n",
       "      <th>...</th>\n",
       "      <td>...</td>\n",
       "      <td>...</td>\n",
       "      <td>...</td>\n",
       "      <td>...</td>\n",
       "      <td>...</td>\n",
       "      <td>...</td>\n",
       "    </tr>\n",
       "    <tr>\n",
       "      <th>77</th>\n",
       "      <td>01-04-2022</td>\n",
       "      <td>303.4226667</td>\n",
       "      <td>8.7</td>\n",
       "      <td>1734.666667</td>\n",
       "      <td>947300.3333</td>\n",
       "      <td>15286</td>\n",
       "    </tr>\n",
       "    <tr>\n",
       "      <th>78</th>\n",
       "      <td>01-07-2022</td>\n",
       "      <td>301.7263333</td>\n",
       "      <td>9.566666667</td>\n",
       "      <td>1610.666667</td>\n",
       "      <td>910346</td>\n",
       "      <td>15306</td>\n",
       "    </tr>\n",
       "    <tr>\n",
       "      <th>79</th>\n",
       "      <td>01-10-2022</td>\n",
       "      <td>297.8966667</td>\n",
       "      <td>9.2</td>\n",
       "      <td>1455.333333</td>\n",
       "      <td>870620.6667</td>\n",
       "      <td>14554</td>\n",
       "    </tr>\n",
       "    <tr>\n",
       "      <th>80</th>\n",
       "      <td>01-01-2023</td>\n",
       "      <td>.</td>\n",
       "      <td>8.033333333</td>\n",
       "      <td>1424.333333</td>\n",
       "      <td>842559.6667</td>\n",
       "      <td>15053</td>\n",
       "    </tr>\n",
       "    <tr>\n",
       "      <th>81</th>\n",
       "      <td>01-04-2023</td>\n",
       "      <td>.</td>\n",
       "      <td>.</td>\n",
       "      <td>.</td>\n",
       "      <td>.</td>\n",
       "      <td>.</td>\n",
       "    </tr>\n",
       "  </tbody>\n",
       "</table>\n",
       "<p>82 rows × 6 columns</p>\n",
       "</div>"
      ],
      "text/plain": [
       "          DATE Home_Price_index Montly_Supply       Permit  \\\n",
       "0   01-01-2003          129.321           4.2  1806.333333   \n",
       "1   01-04-2003          131.756   3.833333333  1837.666667   \n",
       "2   01-07-2003          135.013   3.633333333  1937.333333   \n",
       "3   01-10-2003      138.8356667   3.966666667  1972.333333   \n",
       "4   01-01-2004      143.2986667           3.7  1994.666667   \n",
       "..         ...              ...           ...          ...   \n",
       "77  01-04-2022      303.4226667           8.7  1734.666667   \n",
       "78  01-07-2022      301.7263333   9.566666667  1610.666667   \n",
       "79  01-10-2022      297.8966667           9.2  1455.333333   \n",
       "80  01-01-2023                .   8.033333333  1424.333333   \n",
       "81  01-04-2023                .             .            .   \n",
       "\n",
       "   Total_consumption spending Housing_inventory  \n",
       "0                 421328.6667             14908  \n",
       "1                 429308.6667             15244  \n",
       "2                      458890             15614  \n",
       "3                 491437.3333             15654  \n",
       "4                 506856.3333             15895  \n",
       "..                        ...               ...  \n",
       "77                947300.3333             15286  \n",
       "78                     910346             15306  \n",
       "79                870620.6667             14554  \n",
       "80                842559.6667             15053  \n",
       "81                          .                 .  \n",
       "\n",
       "[82 rows x 6 columns]"
      ]
     },
     "execution_count": 4,
     "metadata": {},
     "output_type": "execute_result"
    }
   ],
   "source": [
    "supply"
   ]
  },
  {
   "cell_type": "code",
   "execution_count": 5,
   "id": "655f9f75",
   "metadata": {},
   "outputs": [
    {
     "name": "stdout",
     "output_type": "stream",
     "text": [
      "demand _shape (81, 7)\n",
      "Supply_shape (82, 6)\n"
     ]
    }
   ],
   "source": [
    "print(\"demand _shape\",demand.shape)\n",
    "print(\"Supply_shape\",supply.shape)"
   ]
  },
  {
   "cell_type": "code",
   "execution_count": null,
   "id": "eeae8fbf",
   "metadata": {},
   "outputs": [],
   "source": []
  },
  {
   "cell_type": "code",
   "execution_count": 6,
   "id": "cbdd5de5",
   "metadata": {},
   "outputs": [
    {
     "data": {
      "text/html": [
       "<div>\n",
       "<style scoped>\n",
       "    .dataframe tbody tr th:only-of-type {\n",
       "        vertical-align: middle;\n",
       "    }\n",
       "\n",
       "    .dataframe tbody tr th {\n",
       "        vertical-align: top;\n",
       "    }\n",
       "\n",
       "    .dataframe thead th {\n",
       "        text-align: right;\n",
       "    }\n",
       "</style>\n",
       "<table border=\"1\" class=\"dataframe\">\n",
       "  <thead>\n",
       "    <tr style=\"text-align: right;\">\n",
       "      <th></th>\n",
       "      <th>DATE</th>\n",
       "      <th>Home_price_index</th>\n",
       "      <th>30y_mortgage</th>\n",
       "      <th>Consumer_sentiment</th>\n",
       "      <th>Interest_rates</th>\n",
       "      <th>Median_sales_price</th>\n",
       "      <th>GDP</th>\n",
       "      <th>Home_Price_index</th>\n",
       "      <th>Montly_Supply</th>\n",
       "      <th>Permit</th>\n",
       "      <th>Total_consumption spending</th>\n",
       "      <th>Housing_inventory</th>\n",
       "    </tr>\n",
       "  </thead>\n",
       "  <tbody>\n",
       "    <tr>\n",
       "      <th>0</th>\n",
       "      <td>01-01-2003</td>\n",
       "      <td>129.321000</td>\n",
       "      <td>5.840769</td>\n",
       "      <td>79.966667</td>\n",
       "      <td>2.250000</td>\n",
       "      <td>186000</td>\n",
       "      <td>11174.129</td>\n",
       "      <td>129.321</td>\n",
       "      <td>4.2</td>\n",
       "      <td>1806.333333</td>\n",
       "      <td>421328.6667</td>\n",
       "      <td>14908</td>\n",
       "    </tr>\n",
       "    <tr>\n",
       "      <th>1</th>\n",
       "      <td>01-04-2003</td>\n",
       "      <td>131.756000</td>\n",
       "      <td>5.506923</td>\n",
       "      <td>89.266667</td>\n",
       "      <td>2.166667</td>\n",
       "      <td>191800</td>\n",
       "      <td>11312.766</td>\n",
       "      <td>131.756</td>\n",
       "      <td>3.833333333</td>\n",
       "      <td>1837.666667</td>\n",
       "      <td>429308.6667</td>\n",
       "      <td>15244</td>\n",
       "    </tr>\n",
       "    <tr>\n",
       "      <th>2</th>\n",
       "      <td>01-07-2003</td>\n",
       "      <td>135.013000</td>\n",
       "      <td>6.033846</td>\n",
       "      <td>89.300000</td>\n",
       "      <td>2.000000</td>\n",
       "      <td>191900</td>\n",
       "      <td>11566.669</td>\n",
       "      <td>135.013</td>\n",
       "      <td>3.633333333</td>\n",
       "      <td>1937.333333</td>\n",
       "      <td>458890</td>\n",
       "      <td>15614</td>\n",
       "    </tr>\n",
       "    <tr>\n",
       "      <th>3</th>\n",
       "      <td>01-10-2003</td>\n",
       "      <td>138.835667</td>\n",
       "      <td>5.919286</td>\n",
       "      <td>91.966667</td>\n",
       "      <td>2.000000</td>\n",
       "      <td>198800</td>\n",
       "      <td>11772.234</td>\n",
       "      <td>138.8356667</td>\n",
       "      <td>3.966666667</td>\n",
       "      <td>1972.333333</td>\n",
       "      <td>491437.3333</td>\n",
       "      <td>15654</td>\n",
       "    </tr>\n",
       "    <tr>\n",
       "      <th>4</th>\n",
       "      <td>01-01-2004</td>\n",
       "      <td>143.298667</td>\n",
       "      <td>5.597500</td>\n",
       "      <td>98.000000</td>\n",
       "      <td>2.000000</td>\n",
       "      <td>212700</td>\n",
       "      <td>11923.447</td>\n",
       "      <td>143.2986667</td>\n",
       "      <td>3.7</td>\n",
       "      <td>1994.666667</td>\n",
       "      <td>506856.3333</td>\n",
       "      <td>15895</td>\n",
       "    </tr>\n",
       "    <tr>\n",
       "      <th>...</th>\n",
       "      <td>...</td>\n",
       "      <td>...</td>\n",
       "      <td>...</td>\n",
       "      <td>...</td>\n",
       "      <td>...</td>\n",
       "      <td>...</td>\n",
       "      <td>...</td>\n",
       "      <td>...</td>\n",
       "      <td>...</td>\n",
       "      <td>...</td>\n",
       "      <td>...</td>\n",
       "      <td>...</td>\n",
       "    </tr>\n",
       "    <tr>\n",
       "      <th>76</th>\n",
       "      <td>01-01-2022</td>\n",
       "      <td>290.868000</td>\n",
       "      <td>3.822308</td>\n",
       "      <td>63.133333</td>\n",
       "      <td>NaN</td>\n",
       "      <td>433100</td>\n",
       "      <td>24740.480</td>\n",
       "      <td>290.868</td>\n",
       "      <td>6.233333333</td>\n",
       "      <td>1864</td>\n",
       "      <td>910611</td>\n",
       "      <td>15166</td>\n",
       "    </tr>\n",
       "    <tr>\n",
       "      <th>77</th>\n",
       "      <td>01-04-2022</td>\n",
       "      <td>303.422667</td>\n",
       "      <td>5.266154</td>\n",
       "      <td>57.866667</td>\n",
       "      <td>NaN</td>\n",
       "      <td>449300</td>\n",
       "      <td>25248.476</td>\n",
       "      <td>303.4226667</td>\n",
       "      <td>8.7</td>\n",
       "      <td>1734.666667</td>\n",
       "      <td>947300.3333</td>\n",
       "      <td>15286</td>\n",
       "    </tr>\n",
       "    <tr>\n",
       "      <th>78</th>\n",
       "      <td>01-07-2022</td>\n",
       "      <td>301.726333</td>\n",
       "      <td>5.623077</td>\n",
       "      <td>56.100000</td>\n",
       "      <td>NaN</td>\n",
       "      <td>468000</td>\n",
       "      <td>25723.941</td>\n",
       "      <td>301.7263333</td>\n",
       "      <td>9.566666667</td>\n",
       "      <td>1610.666667</td>\n",
       "      <td>910346</td>\n",
       "      <td>15306</td>\n",
       "    </tr>\n",
       "    <tr>\n",
       "      <th>79</th>\n",
       "      <td>01-10-2022</td>\n",
       "      <td>297.896667</td>\n",
       "      <td>6.664615</td>\n",
       "      <td>58.800000</td>\n",
       "      <td>NaN</td>\n",
       "      <td>479500</td>\n",
       "      <td>26137.992</td>\n",
       "      <td>297.8966667</td>\n",
       "      <td>9.2</td>\n",
       "      <td>1455.333333</td>\n",
       "      <td>870620.6667</td>\n",
       "      <td>14554</td>\n",
       "    </tr>\n",
       "    <tr>\n",
       "      <th>80</th>\n",
       "      <td>01-01-2023</td>\n",
       "      <td>NaN</td>\n",
       "      <td>6.372308</td>\n",
       "      <td>64.633333</td>\n",
       "      <td>NaN</td>\n",
       "      <td>436800</td>\n",
       "      <td>26465.865</td>\n",
       "      <td>.</td>\n",
       "      <td>8.033333333</td>\n",
       "      <td>1424.333333</td>\n",
       "      <td>842559.6667</td>\n",
       "      <td>15053</td>\n",
       "    </tr>\n",
       "  </tbody>\n",
       "</table>\n",
       "<p>81 rows × 12 columns</p>\n",
       "</div>"
      ],
      "text/plain": [
       "          DATE  Home_price_index  30y_mortgage  Consumer_sentiment  \\\n",
       "0   01-01-2003        129.321000      5.840769           79.966667   \n",
       "1   01-04-2003        131.756000      5.506923           89.266667   \n",
       "2   01-07-2003        135.013000      6.033846           89.300000   \n",
       "3   01-10-2003        138.835667      5.919286           91.966667   \n",
       "4   01-01-2004        143.298667      5.597500           98.000000   \n",
       "..         ...               ...           ...                 ...   \n",
       "76  01-01-2022        290.868000      3.822308           63.133333   \n",
       "77  01-04-2022        303.422667      5.266154           57.866667   \n",
       "78  01-07-2022        301.726333      5.623077           56.100000   \n",
       "79  01-10-2022        297.896667      6.664615           58.800000   \n",
       "80  01-01-2023               NaN      6.372308           64.633333   \n",
       "\n",
       "    Interest_rates  Median_sales_price        GDP Home_Price_index  \\\n",
       "0         2.250000              186000  11174.129          129.321   \n",
       "1         2.166667              191800  11312.766          131.756   \n",
       "2         2.000000              191900  11566.669          135.013   \n",
       "3         2.000000              198800  11772.234      138.8356667   \n",
       "4         2.000000              212700  11923.447      143.2986667   \n",
       "..             ...                 ...        ...              ...   \n",
       "76             NaN              433100  24740.480          290.868   \n",
       "77             NaN              449300  25248.476      303.4226667   \n",
       "78             NaN              468000  25723.941      301.7263333   \n",
       "79             NaN              479500  26137.992      297.8966667   \n",
       "80             NaN              436800  26465.865                .   \n",
       "\n",
       "   Montly_Supply       Permit Total_consumption spending Housing_inventory  \n",
       "0            4.2  1806.333333                421328.6667             14908  \n",
       "1    3.833333333  1837.666667                429308.6667             15244  \n",
       "2    3.633333333  1937.333333                     458890             15614  \n",
       "3    3.966666667  1972.333333                491437.3333             15654  \n",
       "4            3.7  1994.666667                506856.3333             15895  \n",
       "..           ...          ...                        ...               ...  \n",
       "76   6.233333333         1864                     910611             15166  \n",
       "77           8.7  1734.666667                947300.3333             15286  \n",
       "78   9.566666667  1610.666667                     910346             15306  \n",
       "79           9.2  1455.333333                870620.6667             14554  \n",
       "80   8.033333333  1424.333333                842559.6667             15053  \n",
       "\n",
       "[81 rows x 12 columns]"
      ]
     },
     "execution_count": 6,
     "metadata": {},
     "output_type": "execute_result"
    }
   ],
   "source": [
    "data=demand.merge(supply, on=\"DATE\")\n",
    "data"
   ]
  },
  {
   "cell_type": "code",
   "execution_count": 7,
   "id": "cd232192",
   "metadata": {
    "scrolled": true
   },
   "outputs": [
    {
     "name": "stdout",
     "output_type": "stream",
     "text": [
      "<class 'pandas.core.frame.DataFrame'>\n",
      "Int64Index: 81 entries, 0 to 80\n",
      "Data columns (total 12 columns):\n",
      " #   Column                      Non-Null Count  Dtype  \n",
      "---  ------                      --------------  -----  \n",
      " 0   DATE                        81 non-null     object \n",
      " 1   Home_price_index            80 non-null     float64\n",
      " 2   30y_mortgage                81 non-null     float64\n",
      " 3   Consumer_sentiment          81 non-null     float64\n",
      " 4   Interest_rates              74 non-null     float64\n",
      " 5   Median_sales_price          81 non-null     int64  \n",
      " 6   GDP                         81 non-null     float64\n",
      " 7   Home_Price_index            81 non-null     object \n",
      " 8   Montly_Supply               81 non-null     object \n",
      " 9   Permit                      81 non-null     object \n",
      " 10  Total_consumption spending  81 non-null     object \n",
      " 11  Housing_inventory           81 non-null     object \n",
      "dtypes: float64(5), int64(1), object(6)\n",
      "memory usage: 8.2+ KB\n"
     ]
    }
   ],
   "source": [
    "data.info()"
   ]
  },
  {
   "cell_type": "code",
   "execution_count": 8,
   "id": "87f29976",
   "metadata": {},
   "outputs": [
    {
     "name": "stdout",
     "output_type": "stream",
     "text": [
      "<class 'pandas.core.frame.DataFrame'>\n",
      "Int64Index: 81 entries, 0 to 80\n",
      "Data columns (total 12 columns):\n",
      " #   Column                      Non-Null Count  Dtype         \n",
      "---  ------                      --------------  -----         \n",
      " 0   DATE                        81 non-null     datetime64[ns]\n",
      " 1   Home_price_index            80 non-null     float64       \n",
      " 2   30y_mortgage                81 non-null     float64       \n",
      " 3   Consumer_sentiment          81 non-null     float64       \n",
      " 4   Interest_rates              74 non-null     float64       \n",
      " 5   Median_sales_price          81 non-null     int64         \n",
      " 6   GDP                         81 non-null     float64       \n",
      " 7   Home_Price_index            81 non-null     object        \n",
      " 8   Montly_Supply               81 non-null     object        \n",
      " 9   Permit                      81 non-null     object        \n",
      " 10  Total_consumption spending  81 non-null     object        \n",
      " 11  Housing_inventory           81 non-null     object        \n",
      "dtypes: datetime64[ns](1), float64(5), int64(1), object(5)\n",
      "memory usage: 8.2+ KB\n"
     ]
    }
   ],
   "source": [
    "data[\"DATE\"]= pd.to_datetime(data[\"DATE\"])\n",
    "data.info()"
   ]
  },
  {
   "cell_type": "code",
   "execution_count": 9,
   "id": "05543476",
   "metadata": {
    "scrolled": true
   },
   "outputs": [
    {
     "data": {
      "text/html": [
       "<div>\n",
       "<style scoped>\n",
       "    .dataframe tbody tr th:only-of-type {\n",
       "        vertical-align: middle;\n",
       "    }\n",
       "\n",
       "    .dataframe tbody tr th {\n",
       "        vertical-align: top;\n",
       "    }\n",
       "\n",
       "    .dataframe thead th {\n",
       "        text-align: right;\n",
       "    }\n",
       "</style>\n",
       "<table border=\"1\" class=\"dataframe\">\n",
       "  <thead>\n",
       "    <tr style=\"text-align: right;\">\n",
       "      <th></th>\n",
       "      <th>Home_price_index</th>\n",
       "      <th>30y_mortgage</th>\n",
       "      <th>Consumer_sentiment</th>\n",
       "      <th>Interest_rates</th>\n",
       "      <th>Median_sales_price</th>\n",
       "      <th>GDP</th>\n",
       "    </tr>\n",
       "  </thead>\n",
       "  <tbody>\n",
       "    <tr>\n",
       "      <th>count</th>\n",
       "      <td>80.000000</td>\n",
       "      <td>81.000000</td>\n",
       "      <td>81.000000</td>\n",
       "      <td>74.000000</td>\n",
       "      <td>81.000000</td>\n",
       "      <td>81.000000</td>\n",
       "    </tr>\n",
       "    <tr>\n",
       "      <th>mean</th>\n",
       "      <td>180.658712</td>\n",
       "      <td>4.705420</td>\n",
       "      <td>82.149794</td>\n",
       "      <td>1.961712</td>\n",
       "      <td>281104.938272</td>\n",
       "      <td>17298.487852</td>\n",
       "    </tr>\n",
       "    <tr>\n",
       "      <th>std</th>\n",
       "      <td>41.410501</td>\n",
       "      <td>1.114588</td>\n",
       "      <td>12.408088</td>\n",
       "      <td>1.732885</td>\n",
       "      <td>68121.518078</td>\n",
       "      <td>3851.890323</td>\n",
       "    </tr>\n",
       "    <tr>\n",
       "      <th>min</th>\n",
       "      <td>129.321000</td>\n",
       "      <td>2.760714</td>\n",
       "      <td>56.100000</td>\n",
       "      <td>0.250000</td>\n",
       "      <td>186000.000000</td>\n",
       "      <td>11174.129000</td>\n",
       "    </tr>\n",
       "    <tr>\n",
       "      <th>25%</th>\n",
       "      <td>148.204500</td>\n",
       "      <td>3.822308</td>\n",
       "      <td>73.866667</td>\n",
       "      <td>0.750000</td>\n",
       "      <td>228100.000000</td>\n",
       "      <td>14448.882000</td>\n",
       "    </tr>\n",
       "    <tr>\n",
       "      <th>50%</th>\n",
       "      <td>172.270000</td>\n",
       "      <td>4.440000</td>\n",
       "      <td>82.966667</td>\n",
       "      <td>1.041667</td>\n",
       "      <td>258400.000000</td>\n",
       "      <td>16629.050000</td>\n",
       "    </tr>\n",
       "    <tr>\n",
       "      <th>75%</th>\n",
       "      <td>196.770917</td>\n",
       "      <td>5.768462</td>\n",
       "      <td>93.066667</td>\n",
       "      <td>2.562500</td>\n",
       "      <td>318400.000000</td>\n",
       "      <td>19894.750000</td>\n",
       "    </tr>\n",
       "    <tr>\n",
       "      <th>max</th>\n",
       "      <td>303.422667</td>\n",
       "      <td>6.664615</td>\n",
       "      <td>98.933333</td>\n",
       "      <td>6.250000</td>\n",
       "      <td>479500.000000</td>\n",
       "      <td>26465.865000</td>\n",
       "    </tr>\n",
       "  </tbody>\n",
       "</table>\n",
       "</div>"
      ],
      "text/plain": [
       "       Home_price_index  30y_mortgage  Consumer_sentiment  Interest_rates  \\\n",
       "count         80.000000     81.000000           81.000000       74.000000   \n",
       "mean         180.658712      4.705420           82.149794        1.961712   \n",
       "std           41.410501      1.114588           12.408088        1.732885   \n",
       "min          129.321000      2.760714           56.100000        0.250000   \n",
       "25%          148.204500      3.822308           73.866667        0.750000   \n",
       "50%          172.270000      4.440000           82.966667        1.041667   \n",
       "75%          196.770917      5.768462           93.066667        2.562500   \n",
       "max          303.422667      6.664615           98.933333        6.250000   \n",
       "\n",
       "       Median_sales_price           GDP  \n",
       "count           81.000000     81.000000  \n",
       "mean        281104.938272  17298.487852  \n",
       "std          68121.518078   3851.890323  \n",
       "min         186000.000000  11174.129000  \n",
       "25%         228100.000000  14448.882000  \n",
       "50%         258400.000000  16629.050000  \n",
       "75%         318400.000000  19894.750000  \n",
       "max         479500.000000  26465.865000  "
      ]
     },
     "execution_count": 9,
     "metadata": {},
     "output_type": "execute_result"
    }
   ],
   "source": [
    "data.describe()"
   ]
  },
  {
   "cell_type": "code",
   "execution_count": 10,
   "id": "2cc7578a",
   "metadata": {},
   "outputs": [
    {
     "data": {
      "text/plain": [
       "Index(['DATE', 'Home_price_index', '30y_mortgage', 'Consumer_sentiment',\n",
       "       'Interest_rates', 'Median_sales_price', 'GDP', 'Home_Price_index',\n",
       "       'Montly_Supply', 'Permit', 'Total_consumption spending',\n",
       "       'Housing_inventory'],\n",
       "      dtype='object')"
      ]
     },
     "execution_count": 10,
     "metadata": {},
     "output_type": "execute_result"
    }
   ],
   "source": [
    "data.columns"
   ]
  },
  {
   "cell_type": "code",
   "execution_count": 21,
   "id": "afd9bf75",
   "metadata": {},
   "outputs": [
    {
     "data": {
      "text/html": [
       "<div>\n",
       "<style scoped>\n",
       "    .dataframe tbody tr th:only-of-type {\n",
       "        vertical-align: middle;\n",
       "    }\n",
       "\n",
       "    .dataframe tbody tr th {\n",
       "        vertical-align: top;\n",
       "    }\n",
       "\n",
       "    .dataframe thead th {\n",
       "        text-align: right;\n",
       "    }\n",
       "</style>\n",
       "<table border=\"1\" class=\"dataframe\">\n",
       "  <thead>\n",
       "    <tr style=\"text-align: right;\">\n",
       "      <th></th>\n",
       "      <th>DATE</th>\n",
       "      <th>Home_price_index</th>\n",
       "      <th>30y_mortgage</th>\n",
       "      <th>Consumer_sentiment</th>\n",
       "      <th>Interest_rates</th>\n",
       "      <th>Median_sales_price</th>\n",
       "      <th>GDP</th>\n",
       "      <th>Montly_Supply</th>\n",
       "      <th>Permit</th>\n",
       "      <th>Total_consumption spending</th>\n",
       "      <th>Housing_inventory</th>\n",
       "    </tr>\n",
       "  </thead>\n",
       "  <tbody>\n",
       "    <tr>\n",
       "      <th>0</th>\n",
       "      <td>2003-01-01</td>\n",
       "      <td>129.3</td>\n",
       "      <td>5.8</td>\n",
       "      <td>80.0</td>\n",
       "      <td>2.2</td>\n",
       "      <td>186000.0</td>\n",
       "      <td>11174.1</td>\n",
       "      <td>4.2</td>\n",
       "      <td>1806.3</td>\n",
       "      <td>421328.7</td>\n",
       "      <td>14908.0</td>\n",
       "    </tr>\n",
       "    <tr>\n",
       "      <th>1</th>\n",
       "      <td>2003-01-04</td>\n",
       "      <td>131.8</td>\n",
       "      <td>5.5</td>\n",
       "      <td>89.3</td>\n",
       "      <td>2.2</td>\n",
       "      <td>191800.0</td>\n",
       "      <td>11312.8</td>\n",
       "      <td>3.8</td>\n",
       "      <td>1837.7</td>\n",
       "      <td>429308.7</td>\n",
       "      <td>15244.0</td>\n",
       "    </tr>\n",
       "    <tr>\n",
       "      <th>2</th>\n",
       "      <td>2003-01-07</td>\n",
       "      <td>135.0</td>\n",
       "      <td>6.0</td>\n",
       "      <td>89.3</td>\n",
       "      <td>2.0</td>\n",
       "      <td>191900.0</td>\n",
       "      <td>11566.7</td>\n",
       "      <td>3.6</td>\n",
       "      <td>1937.3</td>\n",
       "      <td>458890.0</td>\n",
       "      <td>15614.0</td>\n",
       "    </tr>\n",
       "    <tr>\n",
       "      <th>3</th>\n",
       "      <td>2003-01-10</td>\n",
       "      <td>138.8</td>\n",
       "      <td>5.9</td>\n",
       "      <td>92.0</td>\n",
       "      <td>2.0</td>\n",
       "      <td>198800.0</td>\n",
       "      <td>11772.2</td>\n",
       "      <td>4.0</td>\n",
       "      <td>1972.3</td>\n",
       "      <td>491437.3</td>\n",
       "      <td>15654.0</td>\n",
       "    </tr>\n",
       "    <tr>\n",
       "      <th>4</th>\n",
       "      <td>2004-01-01</td>\n",
       "      <td>143.3</td>\n",
       "      <td>5.6</td>\n",
       "      <td>98.0</td>\n",
       "      <td>2.0</td>\n",
       "      <td>212700.0</td>\n",
       "      <td>11923.4</td>\n",
       "      <td>3.7</td>\n",
       "      <td>1994.7</td>\n",
       "      <td>506856.3</td>\n",
       "      <td>15895.0</td>\n",
       "    </tr>\n",
       "  </tbody>\n",
       "</table>\n",
       "</div>"
      ],
      "text/plain": [
       "        DATE  Home_price_index  30y_mortgage  Consumer_sentiment  \\\n",
       "0 2003-01-01             129.3           5.8                80.0   \n",
       "1 2003-01-04             131.8           5.5                89.3   \n",
       "2 2003-01-07             135.0           6.0                89.3   \n",
       "3 2003-01-10             138.8           5.9                92.0   \n",
       "4 2004-01-01             143.3           5.6                98.0   \n",
       "\n",
       "   Interest_rates  Median_sales_price      GDP  Montly_Supply  Permit  \\\n",
       "0             2.2            186000.0  11174.1            4.2  1806.3   \n",
       "1             2.2            191800.0  11312.8            3.8  1837.7   \n",
       "2             2.0            191900.0  11566.7            3.6  1937.3   \n",
       "3             2.0            198800.0  11772.2            4.0  1972.3   \n",
       "4             2.0            212700.0  11923.4            3.7  1994.7   \n",
       "\n",
       "   Total_consumption spending  Housing_inventory  \n",
       "0                    421328.7            14908.0  \n",
       "1                    429308.7            15244.0  \n",
       "2                    458890.0            15614.0  \n",
       "3                    491437.3            15654.0  \n",
       "4                    506856.3            15895.0  "
      ]
     },
     "execution_count": 21,
     "metadata": {},
     "output_type": "execute_result"
    }
   ],
   "source": [
    "data['Home_price_index'] = data['Home_price_index'].astype(float).round(1)\n",
    "data['Montly_Supply']=data['Montly_Supply'].astype(float).round(1)\n",
    "data['Permit']=data['Permit'].astype(float).round(1)\n",
    "data['Total_consumption spending']=data['Total_consumption spending'].astype(float).round(1)\n",
    "data['Housing_inventory']=data['Housing_inventory'].astype(float).round(1)\n",
    "data['30y_mortgage']=data['30y_mortgage'].astype(float).round(1)\n",
    "data['Consumer_sentiment']=data['Consumer_sentiment'].astype(float).round(1)\n",
    "data['Interest_rates']=data['Interest_rates'].astype(float).round(1)\n",
    "data['Median_sales_price']=data['Median_sales_price'].astype(float).round(1)\n",
    "data['GDP']=data['GDP'].astype(float).round(1)\n",
    "\n",
    "\n",
    "data.head()"
   ]
  },
  {
   "cell_type": "code",
   "execution_count": 12,
   "id": "3675e6a2",
   "metadata": {},
   "outputs": [
    {
     "data": {
      "text/html": [
       "<div>\n",
       "<style scoped>\n",
       "    .dataframe tbody tr th:only-of-type {\n",
       "        vertical-align: middle;\n",
       "    }\n",
       "\n",
       "    .dataframe tbody tr th {\n",
       "        vertical-align: top;\n",
       "    }\n",
       "\n",
       "    .dataframe thead th {\n",
       "        text-align: right;\n",
       "    }\n",
       "</style>\n",
       "<table border=\"1\" class=\"dataframe\">\n",
       "  <thead>\n",
       "    <tr style=\"text-align: right;\">\n",
       "      <th></th>\n",
       "      <th>DATE</th>\n",
       "      <th>Home_price_index</th>\n",
       "      <th>30y_mortgage</th>\n",
       "      <th>Consumer_sentiment</th>\n",
       "      <th>Interest_rates</th>\n",
       "      <th>Median_sales_price</th>\n",
       "      <th>GDP</th>\n",
       "      <th>Montly_Supply</th>\n",
       "      <th>Permit</th>\n",
       "      <th>Total_consumption spending</th>\n",
       "      <th>Housing_inventory</th>\n",
       "    </tr>\n",
       "  </thead>\n",
       "  <tbody>\n",
       "    <tr>\n",
       "      <th>0</th>\n",
       "      <td>2003-01-01</td>\n",
       "      <td>129.321000</td>\n",
       "      <td>5.840769</td>\n",
       "      <td>79.966667</td>\n",
       "      <td>2.250000</td>\n",
       "      <td>186000</td>\n",
       "      <td>11174.129</td>\n",
       "      <td>4.2</td>\n",
       "      <td>1806.333333</td>\n",
       "      <td>421328.6667</td>\n",
       "      <td>14908</td>\n",
       "    </tr>\n",
       "    <tr>\n",
       "      <th>1</th>\n",
       "      <td>2003-01-04</td>\n",
       "      <td>131.756000</td>\n",
       "      <td>5.506923</td>\n",
       "      <td>89.266667</td>\n",
       "      <td>2.166667</td>\n",
       "      <td>191800</td>\n",
       "      <td>11312.766</td>\n",
       "      <td>3.833333333</td>\n",
       "      <td>1837.666667</td>\n",
       "      <td>429308.6667</td>\n",
       "      <td>15244</td>\n",
       "    </tr>\n",
       "    <tr>\n",
       "      <th>2</th>\n",
       "      <td>2003-01-07</td>\n",
       "      <td>135.013000</td>\n",
       "      <td>6.033846</td>\n",
       "      <td>89.300000</td>\n",
       "      <td>2.000000</td>\n",
       "      <td>191900</td>\n",
       "      <td>11566.669</td>\n",
       "      <td>3.633333333</td>\n",
       "      <td>1937.333333</td>\n",
       "      <td>458890</td>\n",
       "      <td>15614</td>\n",
       "    </tr>\n",
       "    <tr>\n",
       "      <th>3</th>\n",
       "      <td>2003-01-10</td>\n",
       "      <td>138.835667</td>\n",
       "      <td>5.919286</td>\n",
       "      <td>91.966667</td>\n",
       "      <td>2.000000</td>\n",
       "      <td>198800</td>\n",
       "      <td>11772.234</td>\n",
       "      <td>3.966666667</td>\n",
       "      <td>1972.333333</td>\n",
       "      <td>491437.3333</td>\n",
       "      <td>15654</td>\n",
       "    </tr>\n",
       "    <tr>\n",
       "      <th>4</th>\n",
       "      <td>2004-01-01</td>\n",
       "      <td>143.298667</td>\n",
       "      <td>5.597500</td>\n",
       "      <td>98.000000</td>\n",
       "      <td>2.000000</td>\n",
       "      <td>212700</td>\n",
       "      <td>11923.447</td>\n",
       "      <td>3.7</td>\n",
       "      <td>1994.666667</td>\n",
       "      <td>506856.3333</td>\n",
       "      <td>15895</td>\n",
       "    </tr>\n",
       "    <tr>\n",
       "      <th>...</th>\n",
       "      <td>...</td>\n",
       "      <td>...</td>\n",
       "      <td>...</td>\n",
       "      <td>...</td>\n",
       "      <td>...</td>\n",
       "      <td>...</td>\n",
       "      <td>...</td>\n",
       "      <td>...</td>\n",
       "      <td>...</td>\n",
       "      <td>...</td>\n",
       "      <td>...</td>\n",
       "    </tr>\n",
       "    <tr>\n",
       "      <th>76</th>\n",
       "      <td>2022-01-01</td>\n",
       "      <td>290.868000</td>\n",
       "      <td>3.822308</td>\n",
       "      <td>63.133333</td>\n",
       "      <td>NaN</td>\n",
       "      <td>433100</td>\n",
       "      <td>24740.480</td>\n",
       "      <td>6.233333333</td>\n",
       "      <td>1864</td>\n",
       "      <td>910611</td>\n",
       "      <td>15166</td>\n",
       "    </tr>\n",
       "    <tr>\n",
       "      <th>77</th>\n",
       "      <td>2022-01-04</td>\n",
       "      <td>303.422667</td>\n",
       "      <td>5.266154</td>\n",
       "      <td>57.866667</td>\n",
       "      <td>NaN</td>\n",
       "      <td>449300</td>\n",
       "      <td>25248.476</td>\n",
       "      <td>8.7</td>\n",
       "      <td>1734.666667</td>\n",
       "      <td>947300.3333</td>\n",
       "      <td>15286</td>\n",
       "    </tr>\n",
       "    <tr>\n",
       "      <th>78</th>\n",
       "      <td>2022-01-07</td>\n",
       "      <td>301.726333</td>\n",
       "      <td>5.623077</td>\n",
       "      <td>56.100000</td>\n",
       "      <td>NaN</td>\n",
       "      <td>468000</td>\n",
       "      <td>25723.941</td>\n",
       "      <td>9.566666667</td>\n",
       "      <td>1610.666667</td>\n",
       "      <td>910346</td>\n",
       "      <td>15306</td>\n",
       "    </tr>\n",
       "    <tr>\n",
       "      <th>79</th>\n",
       "      <td>2022-01-10</td>\n",
       "      <td>297.896667</td>\n",
       "      <td>6.664615</td>\n",
       "      <td>58.800000</td>\n",
       "      <td>NaN</td>\n",
       "      <td>479500</td>\n",
       "      <td>26137.992</td>\n",
       "      <td>9.2</td>\n",
       "      <td>1455.333333</td>\n",
       "      <td>870620.6667</td>\n",
       "      <td>14554</td>\n",
       "    </tr>\n",
       "    <tr>\n",
       "      <th>80</th>\n",
       "      <td>2023-01-01</td>\n",
       "      <td>NaN</td>\n",
       "      <td>6.372308</td>\n",
       "      <td>64.633333</td>\n",
       "      <td>NaN</td>\n",
       "      <td>436800</td>\n",
       "      <td>26465.865</td>\n",
       "      <td>8.033333333</td>\n",
       "      <td>1424.333333</td>\n",
       "      <td>842559.6667</td>\n",
       "      <td>15053</td>\n",
       "    </tr>\n",
       "  </tbody>\n",
       "</table>\n",
       "<p>81 rows × 11 columns</p>\n",
       "</div>"
      ],
      "text/plain": [
       "         DATE  Home_price_index  30y_mortgage  Consumer_sentiment  \\\n",
       "0  2003-01-01        129.321000      5.840769           79.966667   \n",
       "1  2003-01-04        131.756000      5.506923           89.266667   \n",
       "2  2003-01-07        135.013000      6.033846           89.300000   \n",
       "3  2003-01-10        138.835667      5.919286           91.966667   \n",
       "4  2004-01-01        143.298667      5.597500           98.000000   \n",
       "..        ...               ...           ...                 ...   \n",
       "76 2022-01-01        290.868000      3.822308           63.133333   \n",
       "77 2022-01-04        303.422667      5.266154           57.866667   \n",
       "78 2022-01-07        301.726333      5.623077           56.100000   \n",
       "79 2022-01-10        297.896667      6.664615           58.800000   \n",
       "80 2023-01-01               NaN      6.372308           64.633333   \n",
       "\n",
       "    Interest_rates  Median_sales_price        GDP Montly_Supply       Permit  \\\n",
       "0         2.250000              186000  11174.129           4.2  1806.333333   \n",
       "1         2.166667              191800  11312.766   3.833333333  1837.666667   \n",
       "2         2.000000              191900  11566.669   3.633333333  1937.333333   \n",
       "3         2.000000              198800  11772.234   3.966666667  1972.333333   \n",
       "4         2.000000              212700  11923.447           3.7  1994.666667   \n",
       "..             ...                 ...        ...           ...          ...   \n",
       "76             NaN              433100  24740.480   6.233333333         1864   \n",
       "77             NaN              449300  25248.476           8.7  1734.666667   \n",
       "78             NaN              468000  25723.941   9.566666667  1610.666667   \n",
       "79             NaN              479500  26137.992           9.2  1455.333333   \n",
       "80             NaN              436800  26465.865   8.033333333  1424.333333   \n",
       "\n",
       "   Total_consumption spending Housing_inventory  \n",
       "0                 421328.6667             14908  \n",
       "1                 429308.6667             15244  \n",
       "2                      458890             15614  \n",
       "3                 491437.3333             15654  \n",
       "4                 506856.3333             15895  \n",
       "..                        ...               ...  \n",
       "76                     910611             15166  \n",
       "77                947300.3333             15286  \n",
       "78                     910346             15306  \n",
       "79                870620.6667             14554  \n",
       "80                842559.6667             15053  \n",
       "\n",
       "[81 rows x 11 columns]"
      ]
     },
     "execution_count": 12,
     "metadata": {},
     "output_type": "execute_result"
    }
   ],
   "source": [
    "data.drop(columns='Home_Price_index', inplace=True)\n",
    "data"
   ]
  },
  {
   "cell_type": "code",
   "execution_count": 14,
   "id": "d6b04af8",
   "metadata": {},
   "outputs": [
    {
     "data": {
      "text/plain": [
       "DATE                          0\n",
       "Home_price_index              1\n",
       "30y_mortgage                  0\n",
       "Consumer_sentiment            0\n",
       "Interest_rates                7\n",
       "Median_sales_price            0\n",
       "GDP                           0\n",
       "Montly_Supply                 0\n",
       "Permit                        0\n",
       "Total_consumption spending    0\n",
       "Housing_inventory             0\n",
       "dtype: int64"
      ]
     },
     "execution_count": 14,
     "metadata": {},
     "output_type": "execute_result"
    }
   ],
   "source": [
    "data.isna().sum()"
   ]
  },
  {
   "cell_type": "code",
   "execution_count": 22,
   "id": "18f319d9",
   "metadata": {},
   "outputs": [
    {
     "data": {
      "text/html": [
       "<div>\n",
       "<style scoped>\n",
       "    .dataframe tbody tr th:only-of-type {\n",
       "        vertical-align: middle;\n",
       "    }\n",
       "\n",
       "    .dataframe tbody tr th {\n",
       "        vertical-align: top;\n",
       "    }\n",
       "\n",
       "    .dataframe thead th {\n",
       "        text-align: right;\n",
       "    }\n",
       "</style>\n",
       "<table border=\"1\" class=\"dataframe\">\n",
       "  <thead>\n",
       "    <tr style=\"text-align: right;\">\n",
       "      <th></th>\n",
       "      <th>Home_price_index</th>\n",
       "      <th>30y_mortgage</th>\n",
       "      <th>Consumer_sentiment</th>\n",
       "      <th>Interest_rates</th>\n",
       "      <th>Median_sales_price</th>\n",
       "      <th>GDP</th>\n",
       "      <th>Montly_Supply</th>\n",
       "      <th>Permit</th>\n",
       "      <th>Total_consumption spending</th>\n",
       "      <th>Housing_inventory</th>\n",
       "    </tr>\n",
       "  </thead>\n",
       "  <tbody>\n",
       "    <tr>\n",
       "      <th>count</th>\n",
       "      <td>80.000000</td>\n",
       "      <td>81.000000</td>\n",
       "      <td>81.000000</td>\n",
       "      <td>74.000000</td>\n",
       "      <td>81.000000</td>\n",
       "      <td>81.000000</td>\n",
       "      <td>81.000000</td>\n",
       "      <td>81.000000</td>\n",
       "      <td>81.000000</td>\n",
       "      <td>81.000000</td>\n",
       "    </tr>\n",
       "    <tr>\n",
       "      <th>mean</th>\n",
       "      <td>180.656250</td>\n",
       "      <td>4.706173</td>\n",
       "      <td>82.154321</td>\n",
       "      <td>1.970270</td>\n",
       "      <td>281104.938272</td>\n",
       "      <td>17298.483951</td>\n",
       "      <td>6.161728</td>\n",
       "      <td>1310.769136</td>\n",
       "      <td>494813.754321</td>\n",
       "      <td>17096.975309</td>\n",
       "    </tr>\n",
       "    <tr>\n",
       "      <th>std</th>\n",
       "      <td>41.407331</td>\n",
       "      <td>1.112131</td>\n",
       "      <td>12.405201</td>\n",
       "      <td>1.720762</td>\n",
       "      <td>68121.518078</td>\n",
       "      <td>3851.888590</td>\n",
       "      <td>1.918630</td>\n",
       "      <td>477.080119</td>\n",
       "      <td>180463.947455</td>\n",
       "      <td>1383.954497</td>\n",
       "    </tr>\n",
       "    <tr>\n",
       "      <th>min</th>\n",
       "      <td>129.300000</td>\n",
       "      <td>2.800000</td>\n",
       "      <td>56.100000</td>\n",
       "      <td>0.200000</td>\n",
       "      <td>186000.000000</td>\n",
       "      <td>11174.100000</td>\n",
       "      <td>3.400000</td>\n",
       "      <td>538.700000</td>\n",
       "      <td>246953.300000</td>\n",
       "      <td>13876.000000</td>\n",
       "    </tr>\n",
       "    <tr>\n",
       "      <th>25%</th>\n",
       "      <td>148.200000</td>\n",
       "      <td>3.800000</td>\n",
       "      <td>73.900000</td>\n",
       "      <td>0.800000</td>\n",
       "      <td>228100.000000</td>\n",
       "      <td>14448.900000</td>\n",
       "      <td>4.800000</td>\n",
       "      <td>988.300000</td>\n",
       "      <td>358938.700000</td>\n",
       "      <td>15883.000000</td>\n",
       "    </tr>\n",
       "    <tr>\n",
       "      <th>50%</th>\n",
       "      <td>172.300000</td>\n",
       "      <td>4.400000</td>\n",
       "      <td>83.000000</td>\n",
       "      <td>1.050000</td>\n",
       "      <td>258400.000000</td>\n",
       "      <td>16629.000000</td>\n",
       "      <td>5.600000</td>\n",
       "      <td>1282.300000</td>\n",
       "      <td>491437.300000</td>\n",
       "      <td>17268.000000</td>\n",
       "    </tr>\n",
       "    <tr>\n",
       "      <th>75%</th>\n",
       "      <td>196.800000</td>\n",
       "      <td>5.800000</td>\n",
       "      <td>93.100000</td>\n",
       "      <td>2.575000</td>\n",
       "      <td>318400.000000</td>\n",
       "      <td>19894.800000</td>\n",
       "      <td>7.500000</td>\n",
       "      <td>1697.000000</td>\n",
       "      <td>583015.300000</td>\n",
       "      <td>18219.000000</td>\n",
       "    </tr>\n",
       "    <tr>\n",
       "      <th>max</th>\n",
       "      <td>303.400000</td>\n",
       "      <td>6.700000</td>\n",
       "      <td>98.900000</td>\n",
       "      <td>6.200000</td>\n",
       "      <td>479500.000000</td>\n",
       "      <td>26465.900000</td>\n",
       "      <td>11.400000</td>\n",
       "      <td>2228.300000</td>\n",
       "      <td>947300.300000</td>\n",
       "      <td>19137.000000</td>\n",
       "    </tr>\n",
       "  </tbody>\n",
       "</table>\n",
       "</div>"
      ],
      "text/plain": [
       "       Home_price_index  30y_mortgage  Consumer_sentiment  Interest_rates  \\\n",
       "count         80.000000     81.000000           81.000000       74.000000   \n",
       "mean         180.656250      4.706173           82.154321        1.970270   \n",
       "std           41.407331      1.112131           12.405201        1.720762   \n",
       "min          129.300000      2.800000           56.100000        0.200000   \n",
       "25%          148.200000      3.800000           73.900000        0.800000   \n",
       "50%          172.300000      4.400000           83.000000        1.050000   \n",
       "75%          196.800000      5.800000           93.100000        2.575000   \n",
       "max          303.400000      6.700000           98.900000        6.200000   \n",
       "\n",
       "       Median_sales_price           GDP  Montly_Supply       Permit  \\\n",
       "count           81.000000     81.000000      81.000000    81.000000   \n",
       "mean        281104.938272  17298.483951       6.161728  1310.769136   \n",
       "std          68121.518078   3851.888590       1.918630   477.080119   \n",
       "min         186000.000000  11174.100000       3.400000   538.700000   \n",
       "25%         228100.000000  14448.900000       4.800000   988.300000   \n",
       "50%         258400.000000  16629.000000       5.600000  1282.300000   \n",
       "75%         318400.000000  19894.800000       7.500000  1697.000000   \n",
       "max         479500.000000  26465.900000      11.400000  2228.300000   \n",
       "\n",
       "       Total_consumption spending  Housing_inventory  \n",
       "count                   81.000000          81.000000  \n",
       "mean                494813.754321       17096.975309  \n",
       "std                 180463.947455        1383.954497  \n",
       "min                 246953.300000       13876.000000  \n",
       "25%                 358938.700000       15883.000000  \n",
       "50%                 491437.300000       17268.000000  \n",
       "75%                 583015.300000       18219.000000  \n",
       "max                 947300.300000       19137.000000  "
      ]
     },
     "execution_count": 22,
     "metadata": {},
     "output_type": "execute_result"
    }
   ],
   "source": [
    "data.describe()"
   ]
  },
  {
   "cell_type": "code",
   "execution_count": 32,
   "id": "4383a292",
   "metadata": {},
   "outputs": [
    {
     "data": {
      "text/html": [
       "<div>\n",
       "<style scoped>\n",
       "    .dataframe tbody tr th:only-of-type {\n",
       "        vertical-align: middle;\n",
       "    }\n",
       "\n",
       "    .dataframe tbody tr th {\n",
       "        vertical-align: top;\n",
       "    }\n",
       "\n",
       "    .dataframe thead th {\n",
       "        text-align: right;\n",
       "    }\n",
       "</style>\n",
       "<table border=\"1\" class=\"dataframe\">\n",
       "  <thead>\n",
       "    <tr style=\"text-align: right;\">\n",
       "      <th></th>\n",
       "      <th>DATE</th>\n",
       "      <th>Home_price_index</th>\n",
       "      <th>30y_mortgage</th>\n",
       "      <th>Consumer_sentiment</th>\n",
       "      <th>Interest_rates</th>\n",
       "      <th>Median_sales_price</th>\n",
       "      <th>GDP</th>\n",
       "      <th>Montly_Supply</th>\n",
       "      <th>Permit</th>\n",
       "      <th>Total_consumption spending</th>\n",
       "      <th>Housing_inventory</th>\n",
       "    </tr>\n",
       "  </thead>\n",
       "  <tbody>\n",
       "    <tr>\n",
       "      <th>80</th>\n",
       "      <td>2023-01-01</td>\n",
       "      <td>NaN</td>\n",
       "      <td>6.4</td>\n",
       "      <td>64.6</td>\n",
       "      <td>NaN</td>\n",
       "      <td>436800.0</td>\n",
       "      <td>26465.9</td>\n",
       "      <td>8.0</td>\n",
       "      <td>1424.3</td>\n",
       "      <td>842559.7</td>\n",
       "      <td>15053.0</td>\n",
       "    </tr>\n",
       "  </tbody>\n",
       "</table>\n",
       "</div>"
      ],
      "text/plain": [
       "         DATE  Home_price_index  30y_mortgage  Consumer_sentiment  \\\n",
       "80 2023-01-01               NaN           6.4                64.6   \n",
       "\n",
       "    Interest_rates  Median_sales_price      GDP  Montly_Supply  Permit  \\\n",
       "80             NaN            436800.0  26465.9            8.0  1424.3   \n",
       "\n",
       "    Total_consumption spending  Housing_inventory  \n",
       "80                    842559.7            15053.0  "
      ]
     },
     "execution_count": 32,
     "metadata": {},
     "output_type": "execute_result"
    }
   ],
   "source": [
    "data[data['Home_price_index'].isnull()]"
   ]
  },
  {
   "cell_type": "code",
   "execution_count": 37,
   "id": "c02230be",
   "metadata": {},
   "outputs": [
    {
     "data": {
      "text/plain": [
       "Int64Index([80], dtype='int64')"
      ]
     },
     "execution_count": 37,
     "metadata": {},
     "output_type": "execute_result"
    }
   ],
   "source": [
    "NA_index=data[data['Home_price_index'].isnull()].index\n",
    "NA_index"
   ]
  },
  {
   "cell_type": "markdown",
   "id": "0e4d135c",
   "metadata": {},
   "source": [
    "### Droping The Null Value Column "
   ]
  },
  {
   "cell_type": "code",
   "execution_count": 43,
   "id": "2a920d69",
   "metadata": {},
   "outputs": [
    {
     "data": {
      "text/html": [
       "<div>\n",
       "<style scoped>\n",
       "    .dataframe tbody tr th:only-of-type {\n",
       "        vertical-align: middle;\n",
       "    }\n",
       "\n",
       "    .dataframe tbody tr th {\n",
       "        vertical-align: top;\n",
       "    }\n",
       "\n",
       "    .dataframe thead th {\n",
       "        text-align: right;\n",
       "    }\n",
       "</style>\n",
       "<table border=\"1\" class=\"dataframe\">\n",
       "  <thead>\n",
       "    <tr style=\"text-align: right;\">\n",
       "      <th></th>\n",
       "      <th>DATE</th>\n",
       "      <th>Home_price_index</th>\n",
       "      <th>30y_mortgage</th>\n",
       "      <th>Consumer_sentiment</th>\n",
       "      <th>Interest_rates</th>\n",
       "      <th>Median_sales_price</th>\n",
       "      <th>GDP</th>\n",
       "      <th>Montly_Supply</th>\n",
       "      <th>Permit</th>\n",
       "      <th>Total_consumption spending</th>\n",
       "      <th>Housing_inventory</th>\n",
       "    </tr>\n",
       "  </thead>\n",
       "  <tbody>\n",
       "    <tr>\n",
       "      <th>0</th>\n",
       "      <td>2003-01-01</td>\n",
       "      <td>129.3</td>\n",
       "      <td>5.8</td>\n",
       "      <td>80.0</td>\n",
       "      <td>2.2</td>\n",
       "      <td>186000.0</td>\n",
       "      <td>11174.1</td>\n",
       "      <td>4.2</td>\n",
       "      <td>1806.3</td>\n",
       "      <td>421328.7</td>\n",
       "      <td>14908.0</td>\n",
       "    </tr>\n",
       "    <tr>\n",
       "      <th>1</th>\n",
       "      <td>2003-01-04</td>\n",
       "      <td>131.8</td>\n",
       "      <td>5.5</td>\n",
       "      <td>89.3</td>\n",
       "      <td>2.2</td>\n",
       "      <td>191800.0</td>\n",
       "      <td>11312.8</td>\n",
       "      <td>3.8</td>\n",
       "      <td>1837.7</td>\n",
       "      <td>429308.7</td>\n",
       "      <td>15244.0</td>\n",
       "    </tr>\n",
       "    <tr>\n",
       "      <th>2</th>\n",
       "      <td>2003-01-07</td>\n",
       "      <td>135.0</td>\n",
       "      <td>6.0</td>\n",
       "      <td>89.3</td>\n",
       "      <td>2.0</td>\n",
       "      <td>191900.0</td>\n",
       "      <td>11566.7</td>\n",
       "      <td>3.6</td>\n",
       "      <td>1937.3</td>\n",
       "      <td>458890.0</td>\n",
       "      <td>15614.0</td>\n",
       "    </tr>\n",
       "    <tr>\n",
       "      <th>3</th>\n",
       "      <td>2003-01-10</td>\n",
       "      <td>138.8</td>\n",
       "      <td>5.9</td>\n",
       "      <td>92.0</td>\n",
       "      <td>2.0</td>\n",
       "      <td>198800.0</td>\n",
       "      <td>11772.2</td>\n",
       "      <td>4.0</td>\n",
       "      <td>1972.3</td>\n",
       "      <td>491437.3</td>\n",
       "      <td>15654.0</td>\n",
       "    </tr>\n",
       "    <tr>\n",
       "      <th>4</th>\n",
       "      <td>2004-01-01</td>\n",
       "      <td>143.3</td>\n",
       "      <td>5.6</td>\n",
       "      <td>98.0</td>\n",
       "      <td>2.0</td>\n",
       "      <td>212700.0</td>\n",
       "      <td>11923.4</td>\n",
       "      <td>3.7</td>\n",
       "      <td>1994.7</td>\n",
       "      <td>506856.3</td>\n",
       "      <td>15895.0</td>\n",
       "    </tr>\n",
       "    <tr>\n",
       "      <th>...</th>\n",
       "      <td>...</td>\n",
       "      <td>...</td>\n",
       "      <td>...</td>\n",
       "      <td>...</td>\n",
       "      <td>...</td>\n",
       "      <td>...</td>\n",
       "      <td>...</td>\n",
       "      <td>...</td>\n",
       "      <td>...</td>\n",
       "      <td>...</td>\n",
       "      <td>...</td>\n",
       "    </tr>\n",
       "    <tr>\n",
       "      <th>69</th>\n",
       "      <td>2020-01-04</td>\n",
       "      <td>217.2</td>\n",
       "      <td>3.2</td>\n",
       "      <td>74.1</td>\n",
       "      <td>0.2</td>\n",
       "      <td>322600.0</td>\n",
       "      <td>19636.7</td>\n",
       "      <td>5.3</td>\n",
       "      <td>1210.7</td>\n",
       "      <td>603744.7</td>\n",
       "      <td>13876.0</td>\n",
       "    </tr>\n",
       "    <tr>\n",
       "      <th>70</th>\n",
       "      <td>2020-01-07</td>\n",
       "      <td>222.6</td>\n",
       "      <td>3.0</td>\n",
       "      <td>75.7</td>\n",
       "      <td>0.2</td>\n",
       "      <td>337500.0</td>\n",
       "      <td>21362.4</td>\n",
       "      <td>3.4</td>\n",
       "      <td>1577.7</td>\n",
       "      <td>646601.7</td>\n",
       "      <td>14249.0</td>\n",
       "    </tr>\n",
       "    <tr>\n",
       "      <th>71</th>\n",
       "      <td>2020-01-10</td>\n",
       "      <td>233.1</td>\n",
       "      <td>2.8</td>\n",
       "      <td>79.8</td>\n",
       "      <td>0.2</td>\n",
       "      <td>358700.0</td>\n",
       "      <td>21704.7</td>\n",
       "      <td>3.9</td>\n",
       "      <td>1698.3</td>\n",
       "      <td>707944.3</td>\n",
       "      <td>15446.0</td>\n",
       "    </tr>\n",
       "    <tr>\n",
       "      <th>72</th>\n",
       "      <td>2021-01-01</td>\n",
       "      <td>242.3</td>\n",
       "      <td>2.9</td>\n",
       "      <td>80.2</td>\n",
       "      <td>0.2</td>\n",
       "      <td>369800.0</td>\n",
       "      <td>22313.8</td>\n",
       "      <td>4.3</td>\n",
       "      <td>1765.7</td>\n",
       "      <td>753515.7</td>\n",
       "      <td>15602.0</td>\n",
       "    </tr>\n",
       "    <tr>\n",
       "      <th>73</th>\n",
       "      <td>2021-01-04</td>\n",
       "      <td>253.8</td>\n",
       "      <td>3.0</td>\n",
       "      <td>85.6</td>\n",
       "      <td>0.2</td>\n",
       "      <td>382600.0</td>\n",
       "      <td>23046.9</td>\n",
       "      <td>5.3</td>\n",
       "      <td>1679.3</td>\n",
       "      <td>795501.3</td>\n",
       "      <td>15658.0</td>\n",
       "    </tr>\n",
       "  </tbody>\n",
       "</table>\n",
       "<p>74 rows × 11 columns</p>\n",
       "</div>"
      ],
      "text/plain": [
       "         DATE  Home_price_index  30y_mortgage  Consumer_sentiment  \\\n",
       "0  2003-01-01             129.3           5.8                80.0   \n",
       "1  2003-01-04             131.8           5.5                89.3   \n",
       "2  2003-01-07             135.0           6.0                89.3   \n",
       "3  2003-01-10             138.8           5.9                92.0   \n",
       "4  2004-01-01             143.3           5.6                98.0   \n",
       "..        ...               ...           ...                 ...   \n",
       "69 2020-01-04             217.2           3.2                74.1   \n",
       "70 2020-01-07             222.6           3.0                75.7   \n",
       "71 2020-01-10             233.1           2.8                79.8   \n",
       "72 2021-01-01             242.3           2.9                80.2   \n",
       "73 2021-01-04             253.8           3.0                85.6   \n",
       "\n",
       "    Interest_rates  Median_sales_price      GDP  Montly_Supply  Permit  \\\n",
       "0              2.2            186000.0  11174.1            4.2  1806.3   \n",
       "1              2.2            191800.0  11312.8            3.8  1837.7   \n",
       "2              2.0            191900.0  11566.7            3.6  1937.3   \n",
       "3              2.0            198800.0  11772.2            4.0  1972.3   \n",
       "4              2.0            212700.0  11923.4            3.7  1994.7   \n",
       "..             ...                 ...      ...            ...     ...   \n",
       "69             0.2            322600.0  19636.7            5.3  1210.7   \n",
       "70             0.2            337500.0  21362.4            3.4  1577.7   \n",
       "71             0.2            358700.0  21704.7            3.9  1698.3   \n",
       "72             0.2            369800.0  22313.8            4.3  1765.7   \n",
       "73             0.2            382600.0  23046.9            5.3  1679.3   \n",
       "\n",
       "    Total_consumption spending  Housing_inventory  \n",
       "0                     421328.7            14908.0  \n",
       "1                     429308.7            15244.0  \n",
       "2                     458890.0            15614.0  \n",
       "3                     491437.3            15654.0  \n",
       "4                     506856.3            15895.0  \n",
       "..                         ...                ...  \n",
       "69                    603744.7            13876.0  \n",
       "70                    646601.7            14249.0  \n",
       "71                    707944.3            15446.0  \n",
       "72                    753515.7            15602.0  \n",
       "73                    795501.3            15658.0  \n",
       "\n",
       "[74 rows x 11 columns]"
      ]
     },
     "execution_count": 43,
     "metadata": {},
     "output_type": "execute_result"
    }
   ],
   "source": [
    "data.dropna(inplace=True)\n",
    "data"
   ]
  },
  {
   "cell_type": "markdown",
   "id": "8397ff60",
   "metadata": {},
   "source": [
    "## Data Visualization"
   ]
  },
  {
   "cell_type": "code",
   "execution_count": 45,
   "id": "777b3675",
   "metadata": {},
   "outputs": [
    {
     "data": {
      "text/plain": [
       "[Text(0.5, 1.0, 'Home prices index over the years')]"
      ]
     },
     "execution_count": 45,
     "metadata": {},
     "output_type": "execute_result"
    },
    {
     "data": {
      "image/png": "[encoded data removed]",
      "text/plain": [
       "<Figure size 432x288 with 1 Axes>"
      ]
     },
     "metadata": {
      "needs_background": "light"
     },
     "output_type": "display_data"
    }
   ],
   "source": [
    "sns.lineplot(data=data,x='DATE',y='Home_price_index',color='blue').set(title='Home prices index over the years')\n",
    "\n",
    "# this plot shows the Home prices index over the last 20 years"
   ]
  },
  {
   "cell_type": "code",
   "execution_count": 65,
   "id": "630ff3e1",
   "metadata": {},
   "outputs": [
    {
     "data": {
      "text/plain": [
       "[Text(0.5, 1.0, 'Monthly supply over the years')]"
      ]
     },
     "execution_count": 65,
     "metadata": {},
     "output_type": "execute_result"
    },
    {
     "data": {
      "image/png": "[encoded data removed]",
      "text/plain": [
       "<Figure size 432x288 with 1 Axes>"
      ]
     },
     "metadata": {
      "needs_background": "light"
     },
     "output_type": "display_data"
    }
   ],
   "source": [
    "sns.lineplot(data=data,x='DATE',y='Montly_Supply',color='red').set(title='Monthly supply over the years')\n",
    "\n",
    "# this plot shows the monthly supply over the last 20 years"
   ]
  },
  {
   "cell_type": "code",
   "execution_count": 66,
   "id": "7f4cba41",
   "metadata": {},
   "outputs": [
    {
     "data": {
      "text/plain": [
       "[Text(0.5, 1.0, 'Permit over the years')]"
      ]
     },
     "execution_count": 66,
     "metadata": {},
     "output_type": "execute_result"
    },
    {
     "data": {
      "image/png": "[encoded data removed]",
      "text/plain": [
       "<Figure size 432x288 with 1 Axes>"
      ]
     },
     "metadata": {
      "needs_background": "light"
     },
     "output_type": "display_data"
    }
   ],
   "source": [
    "sns.lineplot(data=data,x='DATE',y='Permit',color='green').set(title='Permit over the years')\n",
    "\n",
    "# this plot shows the Permit over the last 20 years"
   ]
  },
  {
   "cell_type": "code",
   "execution_count": 67,
   "id": "2e9aea5e",
   "metadata": {},
   "outputs": [
    {
     "data": {
      "text/plain": [
       "[Text(0.5, 1.0, 'Total_consumption spending over the years')]"
      ]
     },
     "execution_count": 67,
     "metadata": {},
     "output_type": "execute_result"
    },
    {
     "data": {
      "image/png": "[encoded data removed]",
      "text/plain": [
       "<Figure size 432x288 with 1 Axes>"
      ]
     },
     "metadata": {
      "needs_background": "light"
     },
     "output_type": "display_data"
    }
   ],
   "source": [
    "sns.lineplot(data=data,x='DATE',y='Total_consumption spending',color='skyblue').set(title='Total_consumption spending over the years')"
   ]
  },
  {
   "cell_type": "code",
   "execution_count": 68,
   "id": "bf5c8e2c",
   "metadata": {},
   "outputs": [
    {
     "data": {
      "text/plain": [
       "[Text(0.5, 1.0, 'Consumer_sentiment over last 20 years')]"
      ]
     },
     "execution_count": 68,
     "metadata": {},
     "output_type": "execute_result"
    },
    {
     "data": {
      "image/png": "[encoded data removed]",
      "text/plain": [
       "<Figure size 1296x360 with 3 Axes>"
      ]
     },
     "metadata": {
      "needs_background": "light"
     },
     "output_type": "display_data"
    }
   ],
   "source": [
    "#ploting the data in single fig using pyplot\n",
    "figure,ax = plt.subplots(nrows=1,ncols=3,figsize=(18,5))\n",
    "\n",
    "sns.lineplot(ax = ax[0],data =data,x='DATE',y='Housing_inventory').set(title='Housing_inventory over the last 20 years')\n",
    "sns.lineplot(ax = ax[1],data=data,x='DATE',y='30y_mortgage').set(title='30y_mortgage over the last 20 years')\n",
    "sns.lineplot(ax = ax[2],data=data,x='DATE',y='Consumer_sentiment').set(title='Consumer_sentiment over last 20 years')"
   ]
  },
  {
   "cell_type": "code",
   "execution_count": 69,
   "id": "a428cd4f",
   "metadata": {},
   "outputs": [
    {
     "data": {
      "text/plain": [
       "[Text(0.5, 1.0, 'GDP over the last 20 years')]"
      ]
     },
     "execution_count": 69,
     "metadata": {},
     "output_type": "execute_result"
    },
    {
     "data": {
      "image/png": "[encoded data removed]",
      "text/plain": [
       "<Figure size 1296x360 with 3 Axes>"
      ]
     },
     "metadata": {
      "needs_background": "light"
     },
     "output_type": "display_data"
    }
   ],
   "source": [
    "#ploting the data in single fig using pyplot\n",
    "figure,ax = plt.subplots(nrows=1,ncols=3,figsize=(18,5))\n",
    "\n",
    "sns.lineplot(ax = ax[0],data=data,x='DATE',y='Interest_rates').set(title='Interest_rates over the last 20 years')\n",
    "sns.lineplot(ax = ax[1],data=data,x='DATE',y='Median_sales_price').set(title='Median_sales_price over the last 20 years')\n",
    "sns.lineplot(ax = ax[2],data=data,x='DATE',y='GDP').set(title='GDP over the last 20 years')"
   ]
  },
  {
   "cell_type": "code",
   "execution_count": 70,
   "id": "9ac65a44",
   "metadata": {},
   "outputs": [
    {
     "data": {
      "text/html": [
       "<div>\n",
       "<style scoped>\n",
       "    .dataframe tbody tr th:only-of-type {\n",
       "        vertical-align: middle;\n",
       "    }\n",
       "\n",
       "    .dataframe tbody tr th {\n",
       "        vertical-align: top;\n",
       "    }\n",
       "\n",
       "    .dataframe thead th {\n",
       "        text-align: right;\n",
       "    }\n",
       "</style>\n",
       "<table border=\"1\" class=\"dataframe\">\n",
       "  <thead>\n",
       "    <tr style=\"text-align: right;\">\n",
       "      <th></th>\n",
       "      <th>Home_price_index</th>\n",
       "      <th>30y_mortgage</th>\n",
       "      <th>Consumer_sentiment</th>\n",
       "      <th>Interest_rates</th>\n",
       "      <th>Median_sales_price</th>\n",
       "      <th>GDP</th>\n",
       "      <th>Montly_Supply</th>\n",
       "      <th>Permit</th>\n",
       "      <th>Total_consumption spending</th>\n",
       "      <th>Housing_inventory</th>\n",
       "    </tr>\n",
       "  </thead>\n",
       "  <tbody>\n",
       "    <tr>\n",
       "      <th>Home_price_index</th>\n",
       "      <td>1.000000</td>\n",
       "      <td>-0.356838</td>\n",
       "      <td>0.430737</td>\n",
       "      <td>0.147632</td>\n",
       "      <td>0.872944</td>\n",
       "      <td>0.768843</td>\n",
       "      <td>-0.110117</td>\n",
       "      <td>0.333440</td>\n",
       "      <td>0.795488</td>\n",
       "      <td>-0.463047</td>\n",
       "    </tr>\n",
       "    <tr>\n",
       "      <th>30y_mortgage</th>\n",
       "      <td>-0.356838</td>\n",
       "      <td>1.000000</td>\n",
       "      <td>-0.077808</td>\n",
       "      <td>0.736962</td>\n",
       "      <td>-0.697431</td>\n",
       "      <td>-0.795245</td>\n",
       "      <td>0.380945</td>\n",
       "      <td>0.342974</td>\n",
       "      <td>0.021342</td>\n",
       "      <td>-0.001427</td>\n",
       "    </tr>\n",
       "    <tr>\n",
       "      <th>Consumer_sentiment</th>\n",
       "      <td>0.430737</td>\n",
       "      <td>-0.077808</td>\n",
       "      <td>1.000000</td>\n",
       "      <td>0.316050</td>\n",
       "      <td>0.466563</td>\n",
       "      <td>0.287961</td>\n",
       "      <td>-0.565981</td>\n",
       "      <td>0.620069</td>\n",
       "      <td>0.634291</td>\n",
       "      <td>-0.537086</td>\n",
       "    </tr>\n",
       "    <tr>\n",
       "      <th>Interest_rates</th>\n",
       "      <td>0.147632</td>\n",
       "      <td>0.736962</td>\n",
       "      <td>0.316050</td>\n",
       "      <td>1.000000</td>\n",
       "      <td>-0.205661</td>\n",
       "      <td>-0.365931</td>\n",
       "      <td>0.140479</td>\n",
       "      <td>0.559962</td>\n",
       "      <td>0.445632</td>\n",
       "      <td>-0.236148</td>\n",
       "    </tr>\n",
       "    <tr>\n",
       "      <th>Median_sales_price</th>\n",
       "      <td>0.872944</td>\n",
       "      <td>-0.697431</td>\n",
       "      <td>0.466563</td>\n",
       "      <td>-0.205661</td>\n",
       "      <td>1.000000</td>\n",
       "      <td>0.944694</td>\n",
       "      <td>-0.272157</td>\n",
       "      <td>0.084618</td>\n",
       "      <td>0.560888</td>\n",
       "      <td>-0.283130</td>\n",
       "    </tr>\n",
       "    <tr>\n",
       "      <th>GDP</th>\n",
       "      <td>0.768843</td>\n",
       "      <td>-0.795245</td>\n",
       "      <td>0.287961</td>\n",
       "      <td>-0.365931</td>\n",
       "      <td>0.944694</td>\n",
       "      <td>1.000000</td>\n",
       "      <td>-0.140128</td>\n",
       "      <td>-0.178993</td>\n",
       "      <td>0.323530</td>\n",
       "      <td>-0.080982</td>\n",
       "    </tr>\n",
       "    <tr>\n",
       "      <th>Montly_Supply</th>\n",
       "      <td>-0.110117</td>\n",
       "      <td>0.380945</td>\n",
       "      <td>-0.565981</td>\n",
       "      <td>0.140479</td>\n",
       "      <td>-0.272157</td>\n",
       "      <td>-0.140128</td>\n",
       "      <td>1.000000</td>\n",
       "      <td>-0.547535</td>\n",
       "      <td>-0.395263</td>\n",
       "      <td>0.629808</td>\n",
       "    </tr>\n",
       "    <tr>\n",
       "      <th>Permit</th>\n",
       "      <td>0.333440</td>\n",
       "      <td>0.342974</td>\n",
       "      <td>0.620069</td>\n",
       "      <td>0.559962</td>\n",
       "      <td>0.084618</td>\n",
       "      <td>-0.178993</td>\n",
       "      <td>-0.547535</td>\n",
       "      <td>1.000000</td>\n",
       "      <td>0.824670</td>\n",
       "      <td>-0.843025</td>\n",
       "    </tr>\n",
       "    <tr>\n",
       "      <th>Total_consumption spending</th>\n",
       "      <td>0.795488</td>\n",
       "      <td>0.021342</td>\n",
       "      <td>0.634291</td>\n",
       "      <td>0.445632</td>\n",
       "      <td>0.560888</td>\n",
       "      <td>0.323530</td>\n",
       "      <td>-0.395263</td>\n",
       "      <td>0.824670</td>\n",
       "      <td>1.000000</td>\n",
       "      <td>-0.797005</td>\n",
       "    </tr>\n",
       "    <tr>\n",
       "      <th>Housing_inventory</th>\n",
       "      <td>-0.463047</td>\n",
       "      <td>-0.001427</td>\n",
       "      <td>-0.537086</td>\n",
       "      <td>-0.236148</td>\n",
       "      <td>-0.283130</td>\n",
       "      <td>-0.080982</td>\n",
       "      <td>0.629808</td>\n",
       "      <td>-0.843025</td>\n",
       "      <td>-0.797005</td>\n",
       "      <td>1.000000</td>\n",
       "    </tr>\n",
       "  </tbody>\n",
       "</table>\n",
       "</div>"
      ],
      "text/plain": [
       "                            Home_price_index  30y_mortgage  \\\n",
       "Home_price_index                    1.000000     -0.356838   \n",
       "30y_mortgage                       -0.356838      1.000000   \n",
       "Consumer_sentiment                  0.430737     -0.077808   \n",
       "Interest_rates                      0.147632      0.736962   \n",
       "Median_sales_price                  0.872944     -0.697431   \n",
       "GDP                                 0.768843     -0.795245   \n",
       "Montly_Supply                      -0.110117      0.380945   \n",
       "Permit                              0.333440      0.342974   \n",
       "Total_consumption spending          0.795488      0.021342   \n",
       "Housing_inventory                  -0.463047     -0.001427   \n",
       "\n",
       "                            Consumer_sentiment  Interest_rates  \\\n",
       "Home_price_index                      0.430737        0.147632   \n",
       "30y_mortgage                         -0.077808        0.736962   \n",
       "Consumer_sentiment                    1.000000        0.316050   \n",
       "Interest_rates                        0.316050        1.000000   \n",
       "Median_sales_price                    0.466563       -0.205661   \n",
       "GDP                                   0.287961       -0.365931   \n",
       "Montly_Supply                        -0.565981        0.140479   \n",
       "Permit                                0.620069        0.559962   \n",
       "Total_consumption spending            0.634291        0.445632   \n",
       "Housing_inventory                    -0.537086       -0.236148   \n",
       "\n",
       "                            Median_sales_price       GDP  Montly_Supply  \\\n",
       "Home_price_index                      0.872944  0.768843      -0.110117   \n",
       "30y_mortgage                         -0.697431 -0.795245       0.380945   \n",
       "Consumer_sentiment                    0.466563  0.287961      -0.565981   \n",
       "Interest_rates                       -0.205661 -0.365931       0.140479   \n",
       "Median_sales_price                    1.000000  0.944694      -0.272157   \n",
       "GDP                                   0.944694  1.000000      -0.140128   \n",
       "Montly_Supply                        -0.272157 -0.140128       1.000000   \n",
       "Permit                                0.084618 -0.178993      -0.547535   \n",
       "Total_consumption spending            0.560888  0.323530      -0.395263   \n",
       "Housing_inventory                    -0.283130 -0.080982       0.629808   \n",
       "\n",
       "                              Permit  Total_consumption spending  \\\n",
       "Home_price_index            0.333440                    0.795488   \n",
       "30y_mortgage                0.342974                    0.021342   \n",
       "Consumer_sentiment          0.620069                    0.634291   \n",
       "Interest_rates              0.559962                    0.445632   \n",
       "Median_sales_price          0.084618                    0.560888   \n",
       "GDP                        -0.178993                    0.323530   \n",
       "Montly_Supply              -0.547535                   -0.395263   \n",
       "Permit                      1.000000                    0.824670   \n",
       "Total_consumption spending  0.824670                    1.000000   \n",
       "Housing_inventory          -0.843025                   -0.797005   \n",
       "\n",
       "                            Housing_inventory  \n",
       "Home_price_index                    -0.463047  \n",
       "30y_mortgage                        -0.001427  \n",
       "Consumer_sentiment                  -0.537086  \n",
       "Interest_rates                      -0.236148  \n",
       "Median_sales_price                  -0.283130  \n",
       "GDP                                 -0.080982  \n",
       "Montly_Supply                        0.629808  \n",
       "Permit                              -0.843025  \n",
       "Total_consumption spending          -0.797005  \n",
       "Housing_inventory                    1.000000  "
      ]
     },
     "execution_count": 70,
     "metadata": {},
     "output_type": "execute_result"
    }
   ],
   "source": [
    "data.corr()"
   ]
  },
  {
   "cell_type": "code",
   "execution_count": 72,
   "id": "95b30b36",
   "metadata": {},
   "outputs": [
    {
     "data": {
      "text/plain": [
       "[Text(0.5, 1.0, 'Correlation between factors impacted the home price')]"
      ]
     },
     "execution_count": 72,
     "metadata": {},
     "output_type": "execute_result"
    },
    {
     "data": {
      "image/png": "[encoded data removed]",
      "text/plain": [
       "<Figure size 1080x720 with 2 Axes>"
      ]
     },
     "metadata": {
      "needs_background": "light"
     },
     "output_type": "display_data"
    }
   ],
   "source": [
    "plt.figure(figsize=(15,10))\n",
    "sns.heatmap(data=data.corr(),annot=True).set(title='Correlation between factors impacted the home price')"
   ]
  },
  {
   "cell_type": "code",
   "execution_count": 74,
   "id": "590d1660",
   "metadata": {},
   "outputs": [
    {
     "data": {
      "text/plain": [
       "[Text(0.5, 1.0, 'Relationship between consumer sentiment and home price index')]"
      ]
     },
     "execution_count": 74,
     "metadata": {},
     "output_type": "execute_result"
    },
    {
     "data": {
      "image/png": "[encoded data removed]",
      "text/plain": [
       "<Figure size 1440x360 with 3 Axes>"
      ]
     },
     "metadata": {
      "needs_background": "light"
     },
     "output_type": "display_data"
    }
   ],
   "source": [
    "figure,ax = plt.subplots(nrows=1,ncols=3,figsize=(20,5))\n",
    "sns.lineplot(ax = ax[0],data=data,x='DATE',y='Interest_rates')\n",
    "sns.lineplot(ax = ax[0],data=data,x='DATE',y='30y_mortgage').set(title='Relation between Intrest rates and 30y_mortgage for 20 Y')\n",
    "\n",
    "sns.lineplot(ax=ax[1],x = 'DATE',y='Montly_Supply',data =data)\n",
    "sns.lineplot(ax=ax[1],x = 'DATE',y='Interest_rates',data =data).set(title='Relation between monthly supply and interest rates')\n",
    "\n",
    "sns.lineplot(ax=ax[2],x = 'DATE',y='Consumer_sentiment',data =data)\n",
    "sns.lineplot(ax=ax[2],x = 'DATE',y='Home_price_index',data =data).set(title='Relationship between consumer sentiment and home price index')"
   ]
  },
  {
   "cell_type": "markdown",
   "id": "e0e8f2ee",
   "metadata": {},
   "source": [
    "## MACHINE LEARNING MODEL"
   ]
  },
  {
   "cell_type": "code",
   "execution_count": 110,
   "id": "04f35bee",
   "metadata": {},
   "outputs": [],
   "source": [
    "from sklearn.model_selection import train_test_split\n",
    "from sklearn.model_selection import cross_val_score,KFold\n",
    "from sklearn.neighbors import NearestNeighbors,KNeighborsClassifier\n",
    "from sklearn.metrics import classification_report, confusion_matrix \n",
    "from sklearn.linear_model import LogisticRegression\n",
    "from sklearn import metrics\n",
    "from sklearn.ensemble import RandomForestRegressor\n",
    "from sklearn.preprocessing import StandardScaler\n",
    "from sklearn.metrics import r2_score\n",
    "from sklearn.linear_model import LinearRegression\n",
    "from sklearn.linear_model import Ridge\n",
    "from sklearn.neighbors import KNeighborsRegressor\n",
    "from sklearn.pipeline import Pipeline\n",
    "from sklearn.ensemble import GradientBoostingRegressor\n",
    "from sklearn.metrics import accuracy_score"
   ]
  },
  {
   "cell_type": "code",
   "execution_count": 102,
   "id": "20ec84fb",
   "metadata": {},
   "outputs": [],
   "source": [
    "data_wd=data.drop('DATE', axis=1)\n",
    "data_wd\n",
    "feature_wd = data_wd.drop('Home_price_index', axis=1)\n",
    "target_wd = data_wd[['Home_price_index']]"
   ]
  },
  {
   "cell_type": "code",
   "execution_count": 103,
   "id": "a5782125",
   "metadata": {},
   "outputs": [
    {
     "name": "stdout",
     "output_type": "stream",
     "text": [
      "(74, 9)\n",
      "(74, 1)\n"
     ]
    }
   ],
   "source": [
    "print(feature_wd.shape)\n",
    "print(target_wd.shape)"
   ]
  },
  {
   "cell_type": "code",
   "execution_count": 101,
   "id": "77882e44",
   "metadata": {},
   "outputs": [],
   "source": [
    "feature_wd = data.drop('Home_price_index', axis=1)\n",
    "target_wd = data[['Home_price_index']]"
   ]
  },
  {
   "cell_type": "code",
   "execution_count": 93,
   "id": "2a365f32",
   "metadata": {},
   "outputs": [
    {
     "name": "stdout",
     "output_type": "stream",
     "text": [
      "(74, 10)\n",
      "(74, 1)\n"
     ]
    }
   ],
   "source": [
    "print(feature.shape)\n",
    "print(target.shape)"
   ]
  },
  {
   "cell_type": "code",
   "execution_count": 104,
   "id": "254ca808",
   "metadata": {},
   "outputs": [],
   "source": [
    "X_train, X_test, Y_train, Y_test = train_test_split(feature_wd, target_wd, random_state=10)"
   ]
  },
  {
   "cell_type": "code",
   "execution_count": 105,
   "id": "37da8b30",
   "metadata": {
    "scrolled": true
   },
   "outputs": [
    {
     "name": "stdout",
     "output_type": "stream",
     "text": [
      "The Shape X_Train (55, 9)\n",
      "The Shape Y_Train (55, 1)\n",
      "The Shape X_Test (19, 9)\n",
      "The Shape Y_Test (19, 1)\n"
     ]
    }
   ],
   "source": [
    "print(\"The Shape X_Train\",X_train.shape)\n",
    "print(\"The Shape Y_Train\",Y_train.shape)\n",
    "print(\"The Shape X_Test\",X_test.shape)\n",
    "print(\"The Shape Y_Test\",Y_test.shape)"
   ]
  },
  {
   "cell_type": "markdown",
   "id": "ae4002da",
   "metadata": {},
   "source": [
    "## Linear Regression"
   ]
  },
  {
   "cell_type": "code",
   "execution_count": 106,
   "id": "0c5dd2e7",
   "metadata": {},
   "outputs": [],
   "source": [
    "my_linear=LinearRegression()"
   ]
  },
  {
   "cell_type": "code",
   "execution_count": 107,
   "id": "8958bd70",
   "metadata": {},
   "outputs": [],
   "source": [
    "my_log_model = my_linear.fit(X_train, Y_train)"
   ]
  },
  {
   "cell_type": "code",
   "execution_count": 116,
   "id": "9d4dc6b5",
   "metadata": {},
   "outputs": [
    {
     "data": {
      "text/plain": [
       "0.9776896237884697"
      ]
     },
     "execution_count": 116,
     "metadata": {},
     "output_type": "execute_result"
    }
   ],
   "source": [
    "my_log_reg_train = my_log_model.predict(X_train)\n",
    "my_log_reg_test = my_log_model.predict(X_test)\n",
    "r2_score(Y_test,my_log_reg_test)"
   ]
  },
  {
   "cell_type": "markdown",
   "id": "0cd020e6",
   "metadata": {},
   "source": [
    "## Random Forest Regressor"
   ]
  },
  {
   "cell_type": "code",
   "execution_count": 115,
   "id": "6273c9c7",
   "metadata": {},
   "outputs": [
    {
     "name": "stderr",
     "output_type": "stream",
     "text": [
      "C:\\Users\\hvash\\AppData\\Local\\Temp\\ipykernel_9504\\3873467137.py:2: DataConversionWarning: A column-vector y was passed when a 1d array was expected. Please change the shape of y to (n_samples,), for example using ravel().\n",
      "  regressor.fit(X_train,Y_train)\n"
     ]
    },
    {
     "data": {
      "text/plain": [
       "0.8649458156211233"
      ]
     },
     "execution_count": 115,
     "metadata": {},
     "output_type": "execute_result"
    }
   ],
   "source": [
    "regressor = RandomForestRegressor(n_estimators=100,max_depth=5)\n",
    "regressor.fit(X_train,Y_train)\n",
    "y_pred = regressor.predict(X_test)\n",
    "\n",
    "r2_score(Y_test,y_pred)"
   ]
  },
  {
   "cell_type": "code",
   "execution_count": 118,
   "id": "e0396ef4",
   "metadata": {
    "scrolled": false
   },
   "outputs": [
    {
     "data": {
      "text/plain": [
       "[0.9111848434387688,\n",
       " 0.9197242397103492,\n",
       " 0.9088176471164237,\n",
       " 0.9022810275601106,\n",
       " 0.9010376307099297,\n",
       " 0.8855949271420328,\n",
       " 0.8673323744232351,\n",
       " 0.8501404361777033,\n",
       " 0.8258067527289573,\n",
       " 0.7924324128788878,\n",
       " 0.7540835554010733,\n",
       " 0.7229601530138055,\n",
       " 0.688044026855984,\n",
       " 0.6736886743850865,\n",
       " 0.6619478058993141,\n",
       " 0.6551566836835272,\n",
       " 0.6570619629751675,\n",
       " 0.6288014039651869,\n",
       " 0.6128118066724866,\n",
       " 0.6007448591541823,\n",
       " 0.5729082610938983,\n",
       " 0.560911490094467,\n",
       " 0.5416017534098094,\n",
       " 0.5266441330667294]"
      ]
     },
     "execution_count": 118,
     "metadata": {},
     "output_type": "execute_result"
    },
    {
     "data": {
      "image/png": "[encoded data removed]",
      "text/plain": [
       "<Figure size 432x288 with 1 Axes>"
      ]
     },
     "metadata": {
      "needs_background": "light"
     },
     "output_type": "display_data"
    }
   ],
   "source": [
    "k_range = range(1, 25)\n",
    "knn_score = []\n",
    "\n",
    "caler = StandardScaler()\n",
    "X_train_scaled =  scaler.fit_transform(X_train)\n",
    "X_test_scaled = scaler.fit_transform(X_test)\n",
    "\n",
    "\n",
    "for k in k_range:\n",
    "    knn = KNeighborsRegressor(n_neighbors=k)\n",
    "    knn.fit(X_train_scaled, Y_train)\n",
    "    knn_pred = knn.predict(X_test_scaled)\n",
    "    knn_score.append(r2_score(Y_test, knn_pred))\n",
    "\n",
    "plt.plot(k_range,knn_score);\n",
    "knn_score"
   ]
  },
  {
   "cell_type": "markdown",
   "id": "26eafce2",
   "metadata": {},
   "source": [
    "## Ridge  Regression"
   ]
  },
  {
   "cell_type": "code",
   "execution_count": 119,
   "id": "a020ef2c",
   "metadata": {},
   "outputs": [
    {
     "data": {
      "text/plain": [
       "0.7934212429721522"
      ]
     },
     "execution_count": 119,
     "metadata": {},
     "output_type": "execute_result"
    }
   ],
   "source": [
    "\n",
    "ridge_reg = Ridge(alpha=10)\n",
    "ridge_reg.fit(X_train_scaled,Y_train)\n",
    "y_pred_ridge= ridge_reg.predict(X_test_scaled)\n",
    "\n",
    "ridge_reg.score(X_test_scaled,Y_test)"
   ]
  },
  {
   "cell_type": "markdown",
   "id": "1d53144b",
   "metadata": {},
   "source": [
    "## Gradient Booster"
   ]
  },
  {
   "cell_type": "code",
   "execution_count": 124,
   "id": "8b75786b",
   "metadata": {},
   "outputs": [
    {
     "name": "stderr",
     "output_type": "stream",
     "text": [
      "C:\\Users\\hvash\\anaconda3\\lib\\site-packages\\sklearn\\ensemble\\_gb.py:494: DataConversionWarning: A column-vector y was passed when a 1d array was expected. Please change the shape of y to (n_samples, ), for example using ravel().\n",
      "  y = column_or_1d(y, warn=True)\n"
     ]
    },
    {
     "data": {
      "text/plain": [
       "0.80004314124101"
      ]
     },
     "execution_count": 124,
     "metadata": {},
     "output_type": "execute_result"
    }
   ],
   "source": [
    "\n",
    "gb_reg = GradientBoostingRegressor(n_estimators=100, max_depth=3, learning_rate=0.1)\n",
    "gb_reg.fit(X_train_scaled, Y_train)\n",
    "gb_pred = gb_reg.predict(X_test_scaled)\n",
    "\n",
    "r2_score(Y_test, gb_pred)"
   ]
  },
  {
   "cell_type": "code",
   "execution_count": 121,
   "id": "4844b48f",
   "metadata": {},
   "outputs": [
    {
     "name": "stderr",
     "output_type": "stream",
     "text": [
      "C:\\Users\\hvash\\anaconda3\\lib\\site-packages\\sklearn\\ensemble\\_gb.py:494: DataConversionWarning: A column-vector y was passed when a 1d array was expected. Please change the shape of y to (n_samples, ), for example using ravel().\n",
      "  y = column_or_1d(y, warn=True)\n",
      "C:\\Users\\hvash\\anaconda3\\lib\\site-packages\\sklearn\\ensemble\\_gb.py:494: DataConversionWarning: A column-vector y was passed when a 1d array was expected. Please change the shape of y to (n_samples, ), for example using ravel().\n",
      "  y = column_or_1d(y, warn=True)\n",
      "C:\\Users\\hvash\\anaconda3\\lib\\site-packages\\sklearn\\ensemble\\_gb.py:494: DataConversionWarning: A column-vector y was passed when a 1d array was expected. Please change the shape of y to (n_samples, ), for example using ravel().\n",
      "  y = column_or_1d(y, warn=True)\n",
      "C:\\Users\\hvash\\anaconda3\\lib\\site-packages\\sklearn\\ensemble\\_gb.py:494: DataConversionWarning: A column-vector y was passed when a 1d array was expected. Please change the shape of y to (n_samples, ), for example using ravel().\n",
      "  y = column_or_1d(y, warn=True)\n",
      "C:\\Users\\hvash\\anaconda3\\lib\\site-packages\\sklearn\\ensemble\\_gb.py:494: DataConversionWarning: A column-vector y was passed when a 1d array was expected. Please change the shape of y to (n_samples, ), for example using ravel().\n",
      "  y = column_or_1d(y, warn=True)\n",
      "C:\\Users\\hvash\\anaconda3\\lib\\site-packages\\sklearn\\ensemble\\_gb.py:494: DataConversionWarning: A column-vector y was passed when a 1d array was expected. Please change the shape of y to (n_samples, ), for example using ravel().\n",
      "  y = column_or_1d(y, warn=True)\n",
      "C:\\Users\\hvash\\anaconda3\\lib\\site-packages\\sklearn\\model_selection\\_validation.py:680: DataConversionWarning: A column-vector y was passed when a 1d array was expected. Please change the shape of y to (n_samples,), for example using ravel().\n",
      "  estimator.fit(X_train, y_train, **fit_params)\n",
      "C:\\Users\\hvash\\anaconda3\\lib\\site-packages\\sklearn\\model_selection\\_validation.py:680: DataConversionWarning: A column-vector y was passed when a 1d array was expected. Please change the shape of y to (n_samples,), for example using ravel().\n",
      "  estimator.fit(X_train, y_train, **fit_params)\n",
      "C:\\Users\\hvash\\anaconda3\\lib\\site-packages\\sklearn\\model_selection\\_validation.py:680: DataConversionWarning: A column-vector y was passed when a 1d array was expected. Please change the shape of y to (n_samples,), for example using ravel().\n",
      "  estimator.fit(X_train, y_train, **fit_params)\n",
      "C:\\Users\\hvash\\anaconda3\\lib\\site-packages\\sklearn\\model_selection\\_validation.py:680: DataConversionWarning: A column-vector y was passed when a 1d array was expected. Please change the shape of y to (n_samples,), for example using ravel().\n",
      "  estimator.fit(X_train, y_train, **fit_params)\n",
      "C:\\Users\\hvash\\anaconda3\\lib\\site-packages\\sklearn\\model_selection\\_validation.py:680: DataConversionWarning: A column-vector y was passed when a 1d array was expected. Please change the shape of y to (n_samples,), for example using ravel().\n",
      "  estimator.fit(X_train, y_train, **fit_params)\n",
      "C:\\Users\\hvash\\anaconda3\\lib\\site-packages\\sklearn\\model_selection\\_validation.py:680: DataConversionWarning: A column-vector y was passed when a 1d array was expected. Please change the shape of y to (n_samples,), for example using ravel().\n",
      "  estimator.fit(X_train, y_train, **fit_params)\n"
     ]
    },
    {
     "data": {
      "image/png": "[encoded data removed]",
      "text/plain": [
       "<Figure size 720x360 with 1 Axes>"
      ]
     },
     "metadata": {
      "needs_background": "light"
     },
     "output_type": "display_data"
    }
   ],
   "source": [
    "plt.figure(figsize=(10,5))\n",
    "plt.title('Results for all models')\n",
    "models = {\"gb_reg\":  GradientBoostingRegressor(n_estimators=100, max_depth=3, learning_rate=0.1), \"LogisticRegressionr\": ridge_reg,\"Forest regressor\": RandomForestRegressor(n_estimators=100, max_depth=5)}\n",
    "\n",
    "outcome = []\n",
    "\n",
    "for model in models.values():\n",
    "    kf = KFold(n_splits=6,random_state = 42,shuffle = True)\n",
    "    cv_result = cross_val_score(model,X_train_scaled,Y_train,cv=kf)\n",
    "    outcome.append(cv_result)\n",
    "plt.boxplot(outcome,labels = models.keys())\n",
    "plt.show()\n"
   ]
  },
  {
   "cell_type": "markdown",
   "id": "a9734809",
   "metadata": {},
   "source": [
    "# Insights"
   ]
  },
  {
   "cell_type": "markdown",
   "id": "e18ec0db",
   "metadata": {},
   "source": [
    "1. The monthly supply of houses is the number of homes that are available for sale divided by the number of homes that are sold each month. \n",
    "2. A low monthly supply indicates that there are more buyers than sellers, which can lead to higher prices. \n",
    "3. Consumer sentiment: Consumer sentiment is a measure of how confident consumers are about the economy. \n",
    "4. A high level of consumer sentiment indicates that consumers are more likely to buy homes, which can lead to higher demand and higher prices. \n",
    "5. Housing inventory: Housing inventory is the number of homes that are available for sale. \n",
    "6. A low housing inventory indicates that there are fewer homes available for sale, which can lead to higher prices. \n",
    "7. Median sales price: The median sales price is the price at which half of the homes sold for more and half sold for less. \n",
    "8. A rising median sales price indicates that home prices are increasing. \n",
    "9. GDP: GDP is the total value of goods and services produced in a country. \n",
    "10. A rising GDP indicates that the economy is growing, which can lead to higher demand for housing and higher prices. \n",
    "11. As you can see, the supply and demand of houses are closely correlated. \n",
    "12. When there is a low supply of houses and a high demand, prices tend to rise. \n",
    "13. When there is a high supply of houses and a low demand, prices tend to fall."
   ]
  },
  {
   "cell_type": "code",
   "execution_count": null,
   "id": "f62a78b2",
   "metadata": {},
   "outputs": [],
   "source": []
  }
 ],
 "metadata": {
  "kernelspec": {
   "display_name": "Python 3 (ipykernel)",
   "language": "python",
   "name": "python3"
  },
  "language_info": {
   "codemirror_mode": {
    "name": "ipython",
    "version": 3
   },
   "file_extension": ".py",
   "mimetype": "text/x-python",
   "name": "python",
   "nbconvert_exporter": "python",
   "pygments_lexer": "ipython3",
   "version": "3.9.12"
  }
 },
 "nbformat": 4,
 "nbformat_minor": 5
}
